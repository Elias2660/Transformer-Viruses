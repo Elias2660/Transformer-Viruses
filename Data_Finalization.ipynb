{
 "cells": [
  {
   "cell_type": "code",
   "execution_count": null,
   "metadata": {
    "colab": {
     "base_uri": "https://localhost:8080/"
    },
    "id": "QR4wZ0Tfk7Tm",
    "outputId": "397049ce-3476-4152-c6db-2b6e5123809e"
   },
   "outputs": [],
   "source": [
    "#mount google drive (in colab) to get the files\n",
    "\n",
    "import os\n",
    "\n",
    "from google.colab import drive\n",
    "drive.mount('/content/drive')\n",
    "\n",
    "os.listdir(\"/content/drive/MyDrive/Transformer-Viruses\")"
   ]
  },
  {
   "cell_type": "code",
   "execution_count": null,
   "metadata": {
    "id": "mHjlNnZ53CAT"
   },
   "outputs": [],
   "source": [
    "#making the dataframe of transmission levels\n",
    "\n",
    "import pandas as pd\n",
    "virus_data = pd.read_excel(\"/content/drive/MyDrive/Transformer-Viruses/data/Woolhouse_and_Brierley_RNA_virus_database.xlsx\")"
   ]
  },
  {
   "cell_type": "code",
   "execution_count": null,
   "metadata": {
    "colab": {
     "base_uri": "https://localhost:8080/",
     "height": 377
    },
    "id": "dYu9NSXR3CAT",
    "outputId": "09301b28-5af9-4b3c-9a56-355b0c97f0f2"
   },
   "outputs": [],
   "source": [
    "virus_data.head()"
   ]
  },
  {
   "cell_type": "code",
   "execution_count": null,
   "metadata": {
    "id": "XlHu4vzE3CAU"
   },
   "outputs": [],
   "source": [
    "genome_data = pd.DataFrame(columns=[\"Locus\", \"Position/Length Indicator?\", \"Virus Name\", \"Genome\", \"Estimated Transmission Level\", \"temp ratio\"])"
   ]
  },
  {
   "cell_type": "code",
   "execution_count": null,
   "metadata": {
    "colab": {
     "base_uri": "https://localhost:8080/"
    },
    "id": "BQXZwz073CAV",
    "outputId": "be78330c-0c44-4729-fed7-55be49f01674"
   },
   "outputs": [],
   "source": [
    "#making the dataframe of genomes\n",
    "\n",
    "index = 0\n",
    "stor = []\n",
    "with open(\"/content/drive/MyDrive/Transformer-Viruses/data/humanVirusSeq.fa\") as d:\n",
    "    lines = d.readlines()\n",
    "    print(len(lines))\n",
    "    for line in lines:\n",
    "        if index % 2 == 0:\n",
    "            stor = line.strip().replace(\"\\n\",\"\").replace(\">\",\"\").split(\"|\")\n",
    "            index += 1\n",
    "        else:\n",
    "            genome_data.loc[len(genome_data.index)] = [stor[0], stor[1], stor[2], line.strip(), None, 0]\n",
    "            index += 1"
   ]
  },
  {
   "cell_type": "code",
   "execution_count": null,
   "metadata": {
    "colab": {
     "base_uri": "https://localhost:8080/",
     "height": 527
    },
    "id": "Ipv8DEgY3CAW",
    "outputId": "a3dc31d0-6735-472c-ff34-2f08d1d254cf"
   },
   "outputs": [],
   "source": [
    "genome_data"
   ]
  },
  {
   "cell_type": "code",
   "execution_count": null,
   "metadata": {
    "colab": {
     "base_uri": "https://localhost:8080/"
    },
    "id": "5-a3YoLQ3CAW",
    "outputId": "fa92d997-b9ca-4be4-bb01-79d825ebf7ba"
   },
   "outputs": [],
   "source": [
    "len(genome_data.iloc[0][\"Genome\"].strip())"
   ]
  },
  {
   "cell_type": "code",
   "execution_count": null,
   "metadata": {
    "id": "WADvr_3pVnuh"
   },
   "outputs": [],
   "source": [
    "#test of the normalizer used to distinguish genomes with and without corresponding transmission levels\n",
    "\n",
    "i = 0\n",
    "j = 0\n",
    "\n",
    "while True:\n",
    "    compValues.append(df.SequenceMatcher(None, virus_data.iloc[i,0], genome_data.iloc[j, 2]).ratio())\n",
    "    i += 1\n",
    "    if i == 213:\n",
    "      i = 0\n",
    "      compValues.append(1.0)\n",
    "      norm_compValues = [(float(i)-min(compValues))/(max(compValues)-min(compValues)) for i in compValues]\n",
    "      #print(norm_compValues)\n",
    "      for k in range(213):\n",
    "        if norm_compValues[k] > 0.75:\n",
    "          #print(k, virus_data.iloc[k,20])\n",
    "          break\n",
    "      break"
   ]
  },
  {
   "cell_type": "code",
   "execution_count": null,
   "metadata": {
    "colab": {
     "base_uri": "https://localhost:8080/",
     "height": 1000
    },
    "id": "nkerq4WHQx-9",
    "outputId": "c40d6b16-2d12-4c8d-d172-b4f42b355fdf"
   },
   "outputs": [],
   "source": [
    "# adding transmission levels to all genomes that have corresponding transmission levels\n",
    "\n",
    "import difflib as df\n",
    "i = 0\n",
    "j = 0\n",
    "compValues = []\n",
    "\n",
    "for j in range(1620):\n",
    "  while True:\n",
    "    compValues.append(df.SequenceMatcher(None, virus_data.iloc[i,0], genome_data.iloc[j, 2]).ratio())\n",
    "    i += 1\n",
    "    if i == 213:\n",
    "      i = 0\n",
    "      compValues.append(1.0)\n",
    "      norm_compValues = [(float(i)-min(compValues))/(max(compValues)-min(compValues)) for i in compValues]\n",
    "      for k in range(213):\n",
    "        if norm_compValues[k] > 0.75:\n",
    "          genome_data.loc[j, \"Estimated Transmission Level\"] = virus_data.iloc[k,20]\n",
    "          break\n",
    "      break\n",
    "  compValues = []\n",
    "  j += 1\n",
    "  print(j)\n",
    "\n",
    "genome_data"
   ]
  },
  {
   "cell_type": "code",
   "execution_count": null,
   "metadata": {
    "colab": {
     "base_uri": "https://localhost:8080/"
    },
    "id": "DlnAavbYSwwv",
    "outputId": "c14a7bdd-efeb-42e8-862a-657f66ff4197"
   },
   "outputs": [],
   "source": [
    "genome_data.loc[52]"
   ]
  },
  {
   "cell_type": "code",
   "execution_count": null,
   "metadata": {
    "colab": {
     "base_uri": "https://localhost:8080/"
    },
    "id": "JY9DiZmKXfiZ",
    "outputId": "4a12a1ad-5fa2-4a28-b7c5-dad24eae38ed"
   },
   "outputs": [],
   "source": [
    "#delete rows that dont have any transmission level recorded\n",
    "\n",
    "deleteList = []\n",
    "\n",
    "for i in range(len(genome_data)):\n",
    "  if genome_data.loc[i, \"Estimated Transmission Level\"] == None:\n",
    "    deleteList.append(i)\n",
    "\n",
    "print(deleteList)\n",
    "\n",
    "genome_data = genome_data.drop(deleteList)\n",
    "genome_data = genome_data.reset_index(drop=True)"
   ]
  },
  {
   "cell_type": "code",
   "execution_count": null,
   "metadata": {
    "colab": {
     "base_uri": "https://localhost:8080/",
     "height": 458
    },
    "id": "33wcsGSJca-o",
    "outputId": "a77c53e4-8f1c-4136-e6a2-a6d854967d8b"
   },
   "outputs": [],
   "source": [
    "genome_data = genome_data.drop(columns = \"temp ratio\")\n",
    "genome_data"
   ]
  },
  {
   "cell_type": "code",
   "execution_count": null,
   "metadata": {
    "id": "m7fH2KGac8YG"
   },
   "outputs": [],
   "source": [
    "#download the resulting spreadsheet\n",
    "\n",
    "genome_data.to_excel(\"genome_data_with_transmission_levels.xlsx\")\n",
    "!cp genome_data_with_transmission_levels.xlsx \"drive/My Drive/Transformer-Viruses\""
   ]
  }
 ],
 "metadata": {
  "colab": {
   "provenance": []
  },
  "kernelspec": {
   "display_name": "Python 3",
   "name": "python3"
  },
  "language_info": {
   "codemirror_mode": {
    "name": "ipython",
    "version": 3
   },
   "file_extension": ".py",
   "mimetype": "text/x-python",
   "name": "python",
   "nbconvert_exporter": "python",
   "pygments_lexer": "ipython3",
   "version": "3.9.19"
  }
 },
 "nbformat": 4,
 "nbformat_minor": 0
}
