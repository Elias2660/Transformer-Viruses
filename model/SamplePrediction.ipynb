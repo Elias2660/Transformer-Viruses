{
 "cells": [
  {
   "cell_type": "code",
   "execution_count": 1,
   "metadata": {},
   "outputs": [],
   "source": [
    "import torch\n",
    "import pandas as pd\n",
    "import numpy as np\n",
    "import pickle\n",
    "import dill\n",
    "import os"
   ]
  },
  {
   "cell_type": "code",
   "execution_count": 2,
   "metadata": {},
   "outputs": [],
   "source": [
    "if os.path.getsize(\"Genome_Transmissivity_model_dill.pkl\") > 0:\n",
    "    with open(\"Genome_Transmissivity_model_dill.pkl\", 'rb') as f:\n",
    "        model = dill.load(f)\n",
    "else:\n",
    "    print(\"File is empty\")"
   ]
  },
  {
   "cell_type": "code",
   "execution_count": 3,
   "metadata": {},
   "outputs": [
    {
     "data": {
      "text/plain": [
       "GenomeR0ValueModel(\n",
       "  (pos_encoder): PositionalEncoding(\n",
       "    (dropout): Dropout(p=0.1, inplace=False)\n",
       "  )\n",
       "  (transformer_encoder): TransformerEncoder(\n",
       "    (layers): ModuleList(\n",
       "      (0-7): 8 x TransformerEncoderLayer(\n",
       "        (self_attn): MultiheadAttention(\n",
       "          (out_proj): NonDynamicallyQuantizableLinear(in_features=64, out_features=64, bias=True)\n",
       "        )\n",
       "        (linear1): Linear(in_features=64, out_features=256, bias=True)\n",
       "        (dropout): Dropout(p=0.1, inplace=False)\n",
       "        (linear2): Linear(in_features=256, out_features=64, bias=True)\n",
       "        (norm1): LayerNorm((64,), eps=1e-05, elementwise_affine=True)\n",
       "        (norm2): LayerNorm((64,), eps=1e-05, elementwise_affine=True)\n",
       "        (dropout1): Dropout(p=0.1, inplace=False)\n",
       "        (dropout2): Dropout(p=0.1, inplace=False)\n",
       "      )\n",
       "    )\n",
       "  )\n",
       "  (embedding): Embedding(5, 64)\n",
       "  (linear): Linear(in_features=64, out_features=5, bias=True)\n",
       ")"
      ]
     },
     "execution_count": 3,
     "metadata": {},
     "output_type": "execute_result"
    }
   ],
   "source": [
    "model.eval()"
   ]
  },
  {
   "cell_type": "code",
   "execution_count": 4,
   "metadata": {},
   "outputs": [],
   "source": [
    "from collections import OrderedDict as od\n",
    "from torchtext.vocab import vocab\n",
    "from torchtext.data.utils import get_tokenizer\n",
    "\n",
    "vocabs = od()\n",
    "vocabs[\"A\"] = int(1)\n",
    "vocabs[\"G\"] = int(2)\n",
    "vocabs[\"T\"] = int(3)\n",
    "vocabs[\"C\"] = int(4)\n",
    "vocabs[\"U\"] = int(5)\n",
    "# print(\"Vocab is: {}\".format(vocabs)) # sanity check that all of the possible values are reflected\n",
    "\n",
    "vocab = vocab(vocabs, specials=[\"<unk>\"])\n",
    "vocab.set_default_index(vocab[\"<unk>\"])\n",
    "tokenizer = get_tokenizer(vocab)"
   ]
  },
  {
   "cell_type": "code",
   "execution_count": 5,
   "metadata": {},
   "outputs": [
    {
     "data": {
      "text/plain": [
       "'AAGAAGGAGGTTATCAAAGAGGAAAAGATCAAGAACAATGACATCCGCCAAATCCTCTGTGCTGACCCCATCTACACTAGGATTGGGGCTGTCTTGGAGTCACACCAGAACTCCTTGATGAAAGAGCGAACTGAAACAGCAGTGGGGCAATGTGGGTGGTCCCCAATGCGTGGTGGGTTCACGAGAAGGATGAGGAGACTCATCGCAAAAGGCAACAAATACTTCATGGAATTTGACTGGACCAGATATGATGGCACAATTCCAACGCCACTCCTCTTGCATATCAAAAAACTCAGGTGGTCAATGATCAACGAGGTGCAAAGGAAAAAGTACCAATCACTTCATGACTGGTACTGTCATAACCTCGTCCACCGTAAAGTTGTTCTCCCTTCGGGTGAGATTACTGAACAACATAGAGGAAACCCATCTGGCCAGTTCTCCACAACAATGGATAACAACTGTGTGAACCTCTGGATCCAGGCTTTTGAGTTCGCCTATATGATTGGACCTGACAAAGAACTCTGGAAAAAATATGACACCTTGGTCTACGGTGATGATAGGCTCTCAACCACGCCAAAAATAGTGGACAACTATGAGGAGAAAGTTATAGAGATGTATAAGAACATTTTTGGTATGTGGGTTAAACCCGGTAAAGTCAAAATCTCTGAAACCCTAGTGGGTCTCTCCTTCTGTGGTTTTACAGTTGATCAAAACTTAGAGCCTATTCCAACTGCACCTGAAAAACTTATGGCTTCCCTGCTTAAACCATCTACTAAGCTACCTGATCTTGAATCACTCCATGGGAAACTCCTTTGCTATCAGCTGCTTTCCACCTTCTTAGATGAAGAACACCCTTTCAAGGGTTATGTGGAACAGTGTCTTGCTAGAACTAGCAAGCAACTCCGTGACTCTGGTCTTCCGGCCCGTTTCACTGAGGAGCAGCTTCGTCGCATTTGGAGGGGAGGACCAAAAACGTGCGATGGCTAGTGCTTCTGGCAAAAATGTCACTGTCGAGGTCAAGAACACCGGATCTCGCAGCAAATCCCGTGGAAGATCTCAGTCACGAGGTCGTTCTAAGAATGTCAAGATCACAGTCAACTCAAAGCCAAATAGGAAGCAGCGACGAACTGGACCACGTGGTGGGTCTAGTAAACGTGTCGCTCGTCTTGTCAAACAACACCTTGACAAATCAGGTGCCACCGGACCAAAGCCCGCAATTGCCCAGAAGGCAACAGCGACCCTTGGGGTTGTTGGCGCAAATACTTCTGGCAATACTGAGCTTGAGATGTGTCTCATGACAAATCCATGCTTAGTAAAAGATAACACGGGCAACAATGCATTTGGGCCTGTACAAGCTCTTGGAGCCCAGTATACAATGTGGAGAATAAAGAACCTGACAGTCAAACTTACACCCTTGGTTGGGTCTAGTGCCATAGTCGGCACTGTTGTCAGAATGTCACTGAATTCAACATCAACACCTTCCTCCACATCCTGGTCAGGCTTAGGAGCAAGGCTCCATGCCGATGCAGTAGTTGGTAGGTCAGCTACTTTCCGGCTCAAGCCAAGAGACCTCGCTGGGCCCCGAGAAGGGTGGTGGCTAACTAACACCAATGACACCGGCGCTACAACTCTTGGGCCAGCCATTGAAATACATACACTTGGAAAGACAATGTCCGCATACAAGGGCGGAATGTTTGATGGTGGACTCTTCCTGTGTGAGCTAGTTGCAGTCTGGGAATTTGCAAACTACGCAGCTAATCCATCTCTTGCCTCCCTTACTAAAGGGAAGTCTGATGATGCCCAGATTGAATTTACTGCAAAGGAAAAGGGCAAACCAATTGTTATGCAGGCACCAAAAATCAGCACATTTGCCCATGCAGTCTCCCTAGCTTCCACAGAACCTTCATCGCTAGGGCGTGCTGGGGAGCCATCAGTATCAGACACTATCTTCCAGGTGGTGAACACTGGCTTTGAAGGCGTCGCACCTGTGGCTCCGCCTCCCTATGGTTGGCTCATCAAAGGTGGCTGGTGGTTTATTAAGAAAGTATTTGGCCTTGGGCGTTCTGTTGAGCATGAGTATTACTATGTGTATGCATCTTACGATGATGCGCTTAACAACAAACCATGCATTGCAAACCAAGCACAGAGCCCACCAGCCGGAAGGACACTTTCTGAGATACCTAAGGCCAATCTGATCTACACCCAGGTTAATGCGCCCTCAACAGGGTGGAATGAGACTGGGAATGTTGGGCCACGGTCAATTGTCCCACCACCACCAACACCACACTTTCAAAACCAAGATGAAGCTTATTTTATGTCTAATATTAGCTTCCTTGCCACCAATGGTTCTGGAGTACCAAAAGCTATGTACCAGGCAGCAACAATTCTTAGGATCAAAATGGATATTTCAGGGGTAGTTAAGAATGCACCACTCTGCTTCTTTAGAAAGCTTTCTGCACCCCATGCTTTCTTCACAACACACCCTGACTCCACCCTCTCAACCTTTGTCGGGACAAACTTACCACCTGCAATACCTGGTTTTGAATTTCAAAATACTTCAAATCAGAAGTTTGGTAATGTACACTTCTATTCTACCCAAGTTGTGAGGCGTGACACTGACTACTACAAGTATGACTTCTATGTCATTAACATCACTGCTAGGACTAATCTTACCACCTTGGGTGATAAATTTGATATGGCTGAAACATCTGGATATGCAGCAATCCAATTCAATAACACCGAATCACCAGCAGGTCTCACATTAGAACAAAGCAACTGGTACCTAGTTGGAAACATAATGAAAACAAATGCAGCACAAGAGGCAAAAATGTTTCCCCTTTTCCAGGTAAATGAACATTTGGGTCCCATAACACATACAAAGAAAGTTCCAGCAATAGACCAGGCCTTGACTTGGGTCTCCAACTCCACCATCTTGCTTGGTCGAGTGGGCCCCCCAACCACCATTGCAGGTGCCTTCTGGCCTGACGCTAGGGTAGAAGAAGAAGAGGAGCCTGCGGTCTTCAATGACCCTTTTGGAACGGGCCCAGAACCAGACCTCTCTGAACCTTCCGATGAGGAGGACGTAGGAGATGATGACATTGAAGCAGGGGTTGAGTCTGATACAGACTCCCTCACTGATGTGACAGACACAGATGAAGAGACAGAGTATGAGTCTGATGCTGGCGATGATGAAACTGTTGCCTCCAGACGTCTACTCCTTATGAATACCATGATTAATCAAGGTATTCCAGAAGAACAAGCTGCTAGAGCAGCTGTTCGGGCGTTTCCAACTGCCGCCCAACAAGTTGAAAAGAACACCTTTTTGGTGGCGCTTGCAGATGGGTTTTCACCCAGGCAGGCGCGTGCAGATGCTAAGAAAGCAGCTGCAGACTTTTCGTCAAGCCGAGGCCACGCCGAGTAGGATCGAGGGTACAGCTTGACTTCTTTTTGTCTCTTTTTGAACTTTAATGATTCTAATCATCATTTTAAATTTTAATCAGTTGGCAAAAA'"
      ]
     },
     "execution_count": 5,
     "metadata": {},
     "output_type": "execute_result"
    }
   ],
   "source": [
    "with open(\"SampleGenome.txt\", \"r\") as f:\n",
    "    genome = f.read()\n",
    "genome"
   ]
  },
  {
   "cell_type": "code",
   "execution_count": 6,
   "metadata": {},
   "outputs": [],
   "source": [
    "genome = torch.tensor(np.stack([np.array(tokenizer(list(genome)))]))"
   ]
  },
  {
   "cell_type": "code",
   "execution_count": 16,
   "metadata": {},
   "outputs": [
    {
     "name": "stdout",
     "output_type": "stream",
     "text": [
      "tensor([[[ 0.1152,  0.4302,  0.0857, -0.3750,  0.4341],\n",
      "         [ 0.1152,  0.4302,  0.0857, -0.3750,  0.4341],\n",
      "         [ 0.1152,  0.4302,  0.0857, -0.3750,  0.4341],\n",
      "         ...,\n",
      "         [ 0.1152,  0.4302,  0.0857, -0.3750,  0.4341],\n",
      "         [ 0.1152,  0.4302,  0.0857, -0.3750,  0.4341],\n",
      "         [ 0.1152,  0.4302,  0.0857, -0.3750,  0.4341]]])\n",
      "torch.Size([1, 3510, 5])\n"
     ]
    }
   ],
   "source": [
    "import torch\n",
    "import torch.nn as nn\n",
    "import math\n",
    "device = torch.device(\"cuda\" if torch.cuda.is_available() else \"cpu\")\n",
    "\n",
    "with torch.no_grad():\n",
    "    output = model(genome)\n",
    "    print(output)\n",
    "    print(output.shape)\n",
    "    # print(\"The predicted transmissivity is: {}\".format(output.item()))\n",
    "    # if output.item() > 0.5:\n",
    "    #     print(\"The virus is predicted to be transmissible\")\n",
    "    # else:\n",
    "    #     print(\"The virus is predicted to be non-transmissible\")"
   ]
  },
  {
   "cell_type": "code",
   "execution_count": null,
   "metadata": {},
   "outputs": [],
   "source": []
  }
 ],
 "metadata": {
  "kernelspec": {
   "display_name": "venv",
   "language": "python",
   "name": "python3"
  },
  "language_info": {
   "codemirror_mode": {
    "name": "ipython",
    "version": 3
   },
   "file_extension": ".py",
   "mimetype": "text/x-python",
   "name": "python",
   "nbconvert_exporter": "python",
   "pygments_lexer": "ipython3",
   "version": "3.9.19"
  }
 },
 "nbformat": 4,
 "nbformat_minor": 2
}
