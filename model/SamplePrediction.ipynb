{
 "cells": [
  {
   "cell_type": "code",
   "execution_count": 4,
   "metadata": {},
   "outputs": [],
   "source": [
    "import torch\n",
    "import pandas as pd\n",
    "import numpy as np\n",
    "import pickle\n",
    "import dill\n",
    "import os"
   ]
  },
  {
   "cell_type": "code",
   "execution_count": 13,
   "metadata": {},
   "outputs": [
    {
     "ename": "TypeError",
     "evalue": "a bytes-like object is required, not 'str'",
     "output_type": "error",
     "traceback": [
      "\u001b[0;31m---------------------------------------------------------------------------\u001b[0m",
      "\u001b[0;31mTypeError\u001b[0m                                 Traceback (most recent call last)",
      "Cell \u001b[0;32mIn[13], line 3\u001b[0m\n\u001b[1;32m      1\u001b[0m \u001b[38;5;28;01mif\u001b[39;00m os\u001b[38;5;241m.\u001b[39mpath\u001b[38;5;241m.\u001b[39mgetsize(\u001b[38;5;124m\"\u001b[39m\u001b[38;5;124mGenome_Transmissivity_model_cpu.pkl\u001b[39m\u001b[38;5;124m\"\u001b[39m) \u001b[38;5;241m>\u001b[39m \u001b[38;5;241m0\u001b[39m:\n\u001b[1;32m      2\u001b[0m     \u001b[38;5;28;01mwith\u001b[39;00m \u001b[38;5;28mopen\u001b[39m(\u001b[38;5;124m\"\u001b[39m\u001b[38;5;124mGenome_Transmissivity_model_cpu.pkl\u001b[39m\u001b[38;5;124m\"\u001b[39m, \u001b[38;5;124m'\u001b[39m\u001b[38;5;124mrb\u001b[39m\u001b[38;5;124m'\u001b[39m) \u001b[38;5;28;01mas\u001b[39;00m f:\n\u001b[0;32m----> 3\u001b[0m         my_model \u001b[38;5;241m=\u001b[39m \u001b[43mdill\u001b[49m\u001b[38;5;241;43m.\u001b[39;49m\u001b[43mloads\u001b[49m\u001b[43m(\u001b[49m\u001b[38;5;124;43m\"\u001b[39;49m\u001b[38;5;124;43mGenome_Transmissivity_model_cpu.pkl\u001b[39;49m\u001b[38;5;124;43m\"\u001b[39;49m\u001b[43m)\u001b[49m\n\u001b[1;32m      5\u001b[0m \u001b[38;5;28;01melse\u001b[39;00m:\n\u001b[1;32m      6\u001b[0m     \u001b[38;5;28mprint\u001b[39m(\u001b[38;5;124m\"\u001b[39m\u001b[38;5;124mFile is empty\u001b[39m\u001b[38;5;124m\"\u001b[39m)\n",
      "File \u001b[0;32m~/Documents/Projects/Transformer-Viruses/venv/lib/python3.9/site-packages/dill/_dill.py:302\u001b[0m, in \u001b[0;36mloads\u001b[0;34m(str, ignore, **kwds)\u001b[0m\n\u001b[1;32m    291\u001b[0m \u001b[38;5;28;01mdef\u001b[39;00m \u001b[38;5;21mloads\u001b[39m(\u001b[38;5;28mstr\u001b[39m, ignore\u001b[38;5;241m=\u001b[39m\u001b[38;5;28;01mNone\u001b[39;00m, \u001b[38;5;241m*\u001b[39m\u001b[38;5;241m*\u001b[39mkwds):\n\u001b[1;32m    292\u001b[0m \u001b[38;5;250m    \u001b[39m\u001b[38;5;124;03m\"\"\"\u001b[39;00m\n\u001b[1;32m    293\u001b[0m \u001b[38;5;124;03m    Unpickle an object from a string.\u001b[39;00m\n\u001b[1;32m    294\u001b[0m \n\u001b[0;32m   (...)\u001b[0m\n\u001b[1;32m    300\u001b[0m \u001b[38;5;124;03m    Default values for keyword arguments can be set in :mod:`dill.settings`.\u001b[39;00m\n\u001b[1;32m    301\u001b[0m \u001b[38;5;124;03m    \"\"\"\u001b[39;00m\n\u001b[0;32m--> 302\u001b[0m     file \u001b[38;5;241m=\u001b[39m \u001b[43mStringIO\u001b[49m\u001b[43m(\u001b[49m\u001b[38;5;28;43mstr\u001b[39;49m\u001b[43m)\u001b[49m\n\u001b[1;32m    303\u001b[0m     \u001b[38;5;28;01mreturn\u001b[39;00m load(file, ignore, \u001b[38;5;241m*\u001b[39m\u001b[38;5;241m*\u001b[39mkwds)\n",
      "\u001b[0;31mTypeError\u001b[0m: a bytes-like object is required, not 'str'"
     ]
    }
   ],
   "source": [
    "if os.path.getsize(\"Genome_Transmissivity_model_cpu.pkl\") > 0:\n",
    "    with open(\"Genome_Transmissivity_model_cpu.pkl\", 'rb') as f:\n",
    "        my_model = dill.loads(\"Genome_Transmissivity_model_cpu.pkl\")\n",
    "\n",
    "else:\n",
    "    print(\"File is empty\")"
   ]
  },
  {
   "cell_type": "code",
   "execution_count": 3,
   "metadata": {},
   "outputs": [
    {
     "data": {
      "text/plain": [
       "GenomeR0ValueModel(\n",
       "  (pos_encoder): PositionalEncoding(\n",
       "    (dropout): Dropout(p=0.1, inplace=False)\n",
       "  )\n",
       "  (transformer_encoder): TransformerEncoder(\n",
       "    (layers): ModuleList(\n",
       "      (0-7): 8 x TransformerEncoderLayer(\n",
       "        (self_attn): MultiheadAttention(\n",
       "          (out_proj): NonDynamicallyQuantizableLinear(in_features=64, out_features=64, bias=True)\n",
       "        )\n",
       "        (linear1): Linear(in_features=64, out_features=256, bias=True)\n",
       "        (dropout): Dropout(p=0.1, inplace=False)\n",
       "        (linear2): Linear(in_features=256, out_features=64, bias=True)\n",
       "        (norm1): LayerNorm((64,), eps=1e-05, elementwise_affine=True)\n",
       "        (norm2): LayerNorm((64,), eps=1e-05, elementwise_affine=True)\n",
       "        (dropout1): Dropout(p=0.1, inplace=False)\n",
       "        (dropout2): Dropout(p=0.1, inplace=False)\n",
       "      )\n",
       "    )\n",
       "  )\n",
       "  (embedding): Embedding(5, 64)\n",
       "  (linear): Linear(in_features=64, out_features=5, bias=True)\n",
       ")"
      ]
     },
     "execution_count": 3,
     "metadata": {},
     "output_type": "execute_result"
    }
   ],
   "source": [
    "model.eval()"
   ]
  },
  {
   "cell_type": "code",
   "execution_count": 4,
   "metadata": {},
   "outputs": [],
   "source": [
    "from collections import OrderedDict as od\n",
    "from torchtext.vocab import vocab\n",
    "from torchtext.data.utils import get_tokenizer\n",
    "\n",
    "vocabs = od()\n",
    "vocabs[\"A\"] = int(1)\n",
    "vocabs[\"G\"] = int(2)\n",
    "vocabs[\"T\"] = int(3)\n",
    "vocabs[\"C\"] = int(4)\n",
    "vocabs[\"U\"] = int(5)\n",
    "# print(\"Vocab is: {}\".format(vocabs)) # sanity check that all of the possible values are reflected\n",
    "\n",
    "vocab = vocab(vocabs, specials=[\"<unk>\"])\n",
    "vocab.set_default_index(vocab[\"<unk>\"])\n",
    "tokenizer = get_tokenizer(vocab)"
   ]
  },
  {
   "cell_type": "code",
   "execution_count": 5,
   "metadata": {},
   "outputs": [
    {
     "data": {
      "text/plain": [
       "'AAGAAGGAGGTTATCAAAGAGGAAAAGATCAAGAACAATGACATCCGCCAAATCCTCTGTGCTGACCCCATCTACACTAGGATTGGGGCTGTCTTGGAGTCACACCAGAACTCCTTGATGAAAGAGCGAACTGAAACAGCAGTGGGGCAATGTGGGTGGTCCCCAATGCGTGGTGGGTTCACGAGAAGGATGAGGAGACTCATCGCAAAAGGCAACAAATACTTCATGGAATTTGACTGGACCAGATATGATGGCACAATTCCAACGCCACTCCTCTTGCATATCAAAAAACTCAGGTGGTCAATGATCAACGAGGTGCAAAGGAAAAAGTACCAATCACTTCATGACTGGTACTGTCATAACCTCGTCCACCGTAAAGTTGTTCTCCCTTCGGGTGAGATTACTGAACAACATAGAGGAAACCCATCTGGCCAGTTCTCCACAACAATGGATAACAACTGTGTGAACCTCTGGATCCAGGCTTTTGAGTTCGCCTATATGATTGGACCTGACAAAGAACTCTGGAAAAAATATGACACCTTGGTCTACGGTGATGATAGGCTCTCAACCACGCCAAAAATAGTGGACAACTATGAGGAGAAAGTTATAGAGATGTATAAGAACATTTTTGGTATGTGGGTTAAACCCGGTAAAGTCAAAATCTCTGAAACCCTAGTGGGTCTCTCCTTCTGTGGTTTTACAGTTGATCAAAACTTAGAGCCTATTCCAACTGCACCTGAAAAACTTATGGCTTCCCTGCTTAAACCATCTACTAAGCTACCTGATCTTGAATCACTCCATGGGAAACTCCTTTGCTATCAGCTGCTTTCCACCTTCTTAGATGAAGAACACCCTTTCAAGGGTTATGTGGAACAGTGTCTTGCTAGAACTAGCAAGCAACTCCGTGACTCTGGTCTTCCGGCCCGTTTCACTGAGGAGCAGCTTCGTCGCATTTGGAGGGGAGGACCAAAAACGTGCGATGGCTAGTGCTTCTGGCAAAAATGTCACTGTCGAGGTCAAGAACACCGGATCTCGCAGCAAATCCCGTGGAAGATCTCAGTCACGAGGTCGTTCTAAGAATGTCAAGATCACAGTCAACTCAAAGCCAAATAGGAAGCAGCGACGAACTGGACCACGTGGTGGGTCTAGTAAACGTGTCGCTCGTCTTGTCAAACAACACCTTGACAAATCAGGTGCCACCGGACCAAAGCCCGCAATTGCCCAGAAGGCAACAGCGACCCTTGGGGTTGTTGGCGCAAATACTTCTGGCAATACTGAGCTTGAGATGTGTCTCATGACAAATCCATGCTTAGTAAAAGATAACACGGGCAACAATGCATTTGGGCCTGTACAAGCTCTTGGAGCCCAGTATACAATGTGGAGAATAAAGAACCTGACAGTCAAACTTACACCCTTGGTTGGGTCTAGTGCCATAGTCGGCACTGTTGTCAGAATGTCACTGAATTCAACATCAACACCTTCCTCCACATCCTGGTCAGGCTTAGGAGCAAGGCTCCATGCCGATGCAGTAGTTGGTAGGTCAGCTACTTTCCGGCTCAAGCCAAGAGACCTCGCTGGGCCCCGAGAAGGGTGGTGGCTAACTAACACCAATGACACCGGCGCTACAACTCTTGGGCCAGCCATTGAAATACATACACTTGGAAAGACAATGTCCGCATACAAGGGCGGAATGTTTGATGGTGGACTCTTCCTGTGTGAGCTAGTTGCAGTCTGGGAATTTGCAAACTACGCAGCTAATCCATCTCTTGCCTCCCTTACTAAAGGGAAGTCTGATGATGCCCAGATTGAATTTACTGCAAAGGAAAAGGGCAAACCAATTGTTATGCAGGCACCAAAAATCAGCACATTTGCCCATGCAGTCTCCCTAGCTTCCACAGAACCTTCATCGCTAGGGCGTGCTGGGGAGCCATCAGTATCAGACACTATCTTCCAGGTGGTGAACACTGGCTTTGAAGGCGTCGCACCTGTGGCTCCGCCTCCCTATGGTTGGCTCATCAAAGGTGGCTGGTGGTTTATTAAGAAAGTATTTGGCCTTGGGCGTTCTGTTGAGCATGAGTATTACTATGTGTATGCATCTTACGATGATGCGCTTAACAACAAACCATGCATTGCAAACCAAGCACAGAGCCCACCAGCCGGAAGGACACTTTCTGAGATACCTAAGGCCAATCTGATCTACACCCAGGTTAATGCGCCCTCAACAGGGTGGAATGAGACTGGGAATGTTGGGCCACGGTCAATTGTCCCACCACCACCAACACCACACTTTCAAAACCAAGATGAAGCTTATTTTATGTCTAATATTAGCTTCCTTGCCACCAATGGTTCTGGAGTACCAAAAGCTATGTACCAGGCAGCAACAATTCTTAGGATCAAAATGGATATTTCAGGGGTAGTTAAGAATGCACCACTCTGCTTCTTTAGAAAGCTTTCTGCACCCCATGCTTTCTTCACAACACACCCTGACTCCACCCTCTCAACCTTTGTCGGGACAAACTTACCACCTGCAATACCTGGTTTTGAATTTCAAAATACTTCAAATCAGAAGTTTGGTAATGTACACTTCTATTCTACCCAAGTTGTGAGGCGTGACACTGACTACTACAAGTATGACTTCTATGTCATTAACATCACTGCTAGGACTAATCTTACCACCTTGGGTGATAAATTTGATATGGCTGAAACATCTGGATATGCAGCAATCCAATTCAATAACACCGAATCACCAGCAGGTCTCACATTAGAACAAAGCAACTGGTACCTAGTTGGAAACATAATGAAAACAAATGCAGCACAAGAGGCAAAAATGTTTCCCCTTTTCCAGGTAAATGAACATTTGGGTCCCATAACACATACAAAGAAAGTTCCAGCAATAGACCAGGCCTTGACTTGGGTCTCCAACTCCACCATCTTGCTTGGTCGAGTGGGCCCCCCAACCACCATTGCAGGTGCCTTCTGGCCTGACGCTAGGGTAGAAGAAGAAGAGGAGCCTGCGGTCTTCAATGACCCTTTTGGAACGGGCCCAGAACCAGACCTCTCTGAACCTTCCGATGAGGAGGACGTAGGAGATGATGACATTGAAGCAGGGGTTGAGTCTGATACAGACTCCCTCACTGATGTGACAGACACAGATGAAGAGACAGAGTATGAGTCTGATGCTGGCGATGATGAAACTGTTGCCTCCAGACGTCTACTCCTTATGAATACCATGATTAATCAAGGTATTCCAGAAGAACAAGCTGCTAGAGCAGCTGTTCGGGCGTTTCCAACTGCCGCCCAACAAGTTGAAAAGAACACCTTTTTGGTGGCGCTTGCAGATGGGTTTTCACCCAGGCAGGCGCGTGCAGATGCTAAGAAAGCAGCTGCAGACTTTTCGTCAAGCCGAGGCCACGCCGAGTAGGATCGAGGGTACAGCTTGACTTCTTTTTGTCTCTTTTTGAACTTTAATGATTCTAATCATCATTTTAAATTTTAATCAGTTGGCAAAAA'"
      ]
     },
     "execution_count": 5,
     "metadata": {},
     "output_type": "execute_result"
    }
   ],
   "source": [
    "with open(\"SampleGenome.txt\", \"r\") as f:\n",
    "    genome = f.read()\n",
    "genome"
   ]
  },
  {
   "cell_type": "code",
   "execution_count": 6,
   "metadata": {},
   "outputs": [],
   "source": [
    "genome = torch.tensor(np.stack([np.array(tokenizer(list(genome)))]))"
   ]
  },
  {
   "cell_type": "code",
   "execution_count": 16,
   "metadata": {},
   "outputs": [
    {
     "name": "stdout",
     "output_type": "stream",
     "text": [
      "tensor([[[ 0.1152,  0.4302,  0.0857, -0.3750,  0.4341],\n",
      "         [ 0.1152,  0.4302,  0.0857, -0.3750,  0.4341],\n",
      "         [ 0.1152,  0.4302,  0.0857, -0.3750,  0.4341],\n",
      "         ...,\n",
      "         [ 0.1152,  0.4302,  0.0857, -0.3750,  0.4341],\n",
      "         [ 0.1152,  0.4302,  0.0857, -0.3750,  0.4341],\n",
      "         [ 0.1152,  0.4302,  0.0857, -0.3750,  0.4341]]])\n",
      "torch.Size([1, 3510, 5])\n"
     ]
    }
   ],
   "source": [
    "import torch\n",
    "import torch.nn as nn\n",
    "import math\n",
    "device = torch.device(\"cuda\" if torch.cuda.is_available() else \"cpu\")\n",
    "\n",
    "with torch.no_grad():\n",
    "    output = model(genome)\n",
    "    print(output)\n",
    "    print(output.shape)\n",
    "    # print(\"The predicted transmissivity is: {}\".format(output.item()))\n",
    "    # if output.item() > 0.5:\n",
    "    #     print(\"The virus is predicted to be transmissible\")\n",
    "    # else:\n",
    "    #     print(\"The virus is predicted to be non-transmissible\")"
   ]
  },
  {
   "cell_type": "code",
   "execution_count": null,
   "metadata": {},
   "outputs": [],
   "source": []
  }
 ],
 "metadata": {
  "kernelspec": {
   "display_name": "venv",
   "language": "python",
   "name": "python3"
  },
  "language_info": {
   "codemirror_mode": {
    "name": "ipython",
    "version": 3
   },
   "file_extension": ".py",
   "mimetype": "text/x-python",
   "name": "python",
   "nbconvert_exporter": "python",
   "pygments_lexer": "ipython3",
   "version": "3.9.19"
  }
 },
 "nbformat": 4,
 "nbformat_minor": 2
}
