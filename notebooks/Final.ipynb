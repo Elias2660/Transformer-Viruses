{
 "cells": [
  {
   "cell_type": "code",
   "execution_count": 56,
   "metadata": {
    "colab": {
     "base_uri": "https://localhost:8080/"
    },
    "id": "9_KQFuG35w_e",
    "outputId": "e3fddb87-7951-4856-e287-cddf6e5df744"
   },
   "outputs": [],
   "source": [
    "# run for google colab\n",
    "# !nvidia-smi"
   ]
  },
  {
   "cell_type": "markdown",
   "metadata": {
    "id": "wmHIYG4GNZIm"
   },
   "source": [
    "##### Categorizing Imports"
   ]
  },
  {
   "cell_type": "code",
   "execution_count": 57,
   "metadata": {
    "id": "1phcS0-yNZIo"
   },
   "outputs": [],
   "source": [
    "import numpy as np\n",
    "from collections import OrderedDict as od"
   ]
  },
  {
   "cell_type": "code",
   "execution_count": 58,
   "metadata": {
    "colab": {
     "base_uri": "https://localhost:8080/",
     "height": 258
    },
    "id": "WfAiaeYVltxC",
    "outputId": "599c12b6-a21c-45f0-fb6c-fdf348cc854d"
   },
   "outputs": [
    {
     "name": "stdout",
     "output_type": "stream",
     "text": [
      "Index(['Locus', 'Position/Length Indicator?', 'Virus Name', 'Genome',\n",
      "       'Estimated Transmission Level'],\n",
      "      dtype='object')\n"
     ]
    },
    {
     "data": {
      "text/html": [
       "<div>\n",
       "<style scoped>\n",
       "    .dataframe tbody tr th:only-of-type {\n",
       "        vertical-align: middle;\n",
       "    }\n",
       "\n",
       "    .dataframe tbody tr th {\n",
       "        vertical-align: top;\n",
       "    }\n",
       "\n",
       "    .dataframe thead th {\n",
       "        text-align: right;\n",
       "    }\n",
       "</style>\n",
       "<table border=\"1\" class=\"dataframe\">\n",
       "  <thead>\n",
       "    <tr style=\"text-align: right;\">\n",
       "      <th></th>\n",
       "      <th>Locus</th>\n",
       "      <th>Position/Length Indicator?</th>\n",
       "      <th>Virus Name</th>\n",
       "      <th>Genome</th>\n",
       "      <th>Estimated Transmission Level</th>\n",
       "    </tr>\n",
       "  </thead>\n",
       "  <tbody>\n",
       "    <tr>\n",
       "      <th>0</th>\n",
       "      <td>NC_034975</td>\n",
       "      <td>1239568</td>\n",
       "      <td>Mamastrovirus 4</td>\n",
       "      <td>AAGAAGGAGGTTATCAAAGAGGAAAAGATCAAGAACAATGACATCC...</td>\n",
       "      <td>4b</td>\n",
       "    </tr>\n",
       "    <tr>\n",
       "      <th>1</th>\n",
       "      <td>NC_001560</td>\n",
       "      <td>1972577</td>\n",
       "      <td>Indiana vesiculovirus</td>\n",
       "      <td>ACGAAGACAAACAAACCATTATTATCATTAAAAGGCTCAGGAGAAA...</td>\n",
       "      <td>2</td>\n",
       "    </tr>\n",
       "    <tr>\n",
       "      <th>2</th>\n",
       "      <td>NC_038236</td>\n",
       "      <td>1972577</td>\n",
       "      <td>Indiana vesiculovirus</td>\n",
       "      <td>ACGAAGACAAACAAACCATTATTACCATTAAAAGGCTCAGGAGAAA...</td>\n",
       "      <td>2</td>\n",
       "    </tr>\n",
       "    <tr>\n",
       "      <th>3</th>\n",
       "      <td>NC_021928</td>\n",
       "      <td>2560526</td>\n",
       "      <td>Human orthorubulavirus 4</td>\n",
       "      <td>ACCAAGGGGAGAAGAGATATGGATACTGATCTGGAAAATTAAAGGT...</td>\n",
       "      <td>4b</td>\n",
       "    </tr>\n",
       "    <tr>\n",
       "      <th>4</th>\n",
       "      <td>NC_014373</td>\n",
       "      <td>565995</td>\n",
       "      <td>Bundibugyo ebolavirus</td>\n",
       "      <td>CGGACACACAAAAAGAATGAAGGATTTTGAATCTTTATTGTGTGCG...</td>\n",
       "      <td>3</td>\n",
       "    </tr>\n",
       "  </tbody>\n",
       "</table>\n",
       "</div>"
      ],
      "text/plain": [
       "       Locus  Position/Length Indicator?                Virus Name  \\\n",
       "0  NC_034975                     1239568           Mamastrovirus 4   \n",
       "1  NC_001560                     1972577     Indiana vesiculovirus   \n",
       "2  NC_038236                     1972577     Indiana vesiculovirus   \n",
       "3  NC_021928                     2560526  Human orthorubulavirus 4   \n",
       "4  NC_014373                      565995     Bundibugyo ebolavirus   \n",
       "\n",
       "                                              Genome  \\\n",
       "0  AAGAAGGAGGTTATCAAAGAGGAAAAGATCAAGAACAATGACATCC...   \n",
       "1  ACGAAGACAAACAAACCATTATTATCATTAAAAGGCTCAGGAGAAA...   \n",
       "2  ACGAAGACAAACAAACCATTATTACCATTAAAAGGCTCAGGAGAAA...   \n",
       "3  ACCAAGGGGAGAAGAGATATGGATACTGATCTGGAAAATTAAAGGT...   \n",
       "4  CGGACACACAAAAAGAATGAAGGATTTTGAATCTTTATTGTGTGCG...   \n",
       "\n",
       "  Estimated Transmission Level  \n",
       "0                           4b  \n",
       "1                            2  \n",
       "2                            2  \n",
       "3                           4b  \n",
       "4                            3  "
      ]
     },
     "metadata": {},
     "output_type": "display_data"
    }
   ],
   "source": [
    "# importing the data\n",
    "import os\n",
    "\n",
    "# from google.colab import drive\n",
    "# drive.mount('/content/drive')\n",
    "# os.listdir(\"/content/drive/MyDrive/Transformer-Viruses\")\n",
    "\n",
    "import pandas as pd\n",
    "\n",
    "viralData = pd.read_csv(\"../data/genome_data_with_transmission_levels.csv\")\n",
    "viralData.drop(\"Unnamed: 0\", axis=1, inplace=True)\n",
    "print(viralData.columns)\n",
    "display(viralData.head())"
   ]
  },
  {
   "cell_type": "markdown",
   "metadata": {
    "id": "IgIXlfAeyana"
   },
   "source": [
    "## Create the tokenizer\n"
   ]
  },
  {
   "cell_type": "code",
   "execution_count": 59,
   "metadata": {
    "colab": {
     "base_uri": "https://localhost:8080/",
     "height": 451
    },
    "id": "MK98N5Eom3Rt",
    "outputId": "c3a182bc-6cac-412b-e1eb-b008cdbcbc3d"
   },
   "outputs": [
    {
     "name": "stdout",
     "output_type": "stream",
     "text": [
      "[1, 1, 2, 1, 1, 2, 2, 1, 2, 2, 3, 3, 1, 3, 4, 1, 1, 1, 2, 1, 2, 2, 1, 1, 1, 1, 2, 1, 3, 4, 1, 1, 2, 1, 1, 4, 1, 1, 3, 2, 1, 4, 1, 3, 4, 4, 2, 4, 4, 1, 1, 1, 3, 4, 4, 3, 4, 3, 2, 3, 2, 4, 3, 2, 1, 4, 4, 4, 4, 1, 3, 4, 3, 1, 4, 1, 4, 3, 1, 2, 2, 1, 3, 3, 2, 2, 2, 2, 4, 3, 2, 3, 4, 3, 3, 2, 2, 1, 2, 3, 4, 1, 4, 1, 4, 4, 1, 2, 1, 1, 4, 3, 4, 4, 3, 3, 2, 1, 3, 2, 1, 1, 1, 2, 1, 2, 4, 2, 1, 1, 4, 3, 2, 1, 1, 1, 4, 1, 2, 4, 1, 2, 3, 2, 2, 2, 2, 4, 1, 1, 3, 2, 3, 2, 2, 2, 3, 2, 2, 3, 4, 4, 4, 4, 1, 1, 3, 2, 4, 2, 3, 2, 2, 3, 2, 2, 2, 3, 3, 4, 1, 4, 2, 1, 2, 1, 1, 2, 2, 1, 3, 2, 1, 2, 2, 1, 2, 1, 4, 3, 4, 1, 3, 4, 2, 4, 1, 1, 1, 1, 2, 2, 4, 1, 1, 4, 1, 1, 1, 3, 1, 4, 3, 3, 4, 1, 3, 2, 2, 1, 1, 3, 3, 3, 2, 1, 4, 3, 2, 2, 1, 4, 4, 1, 2, 1, 3, 1, 3, 2, 1, 3, 2, 2, 4, 1, 4, 1, 1, 3, 3, 4, 4, 1, 1, 4, 2, 4, 4, 1, 4, 3, 4, 4, 3, 4, 3, 3, 2, 4, 1, 3, 1, 3, 4, 1, 1, 1, 1, 1, 1, 4, 3, 4, 1, 2, 2, 3, 2, 2, 3, 4, 1, 1, 3, 2, 1, 3, 4, 1, 1, 4, 2, 1, 2, 2, 3, 2, 4, 1, 1, 1, 2, 2, 1, 1, 1, 1, 1, 2, 3, 1, 4, 4, 1, 1, 3, 4, 1, 4, 3, 3, 4, 1, 3, 2, 1, 4, 3, 2, 2, 3, 1, 4, 3, 2, 3, 4, 1, 3, 1, 1, 4, 4, 3, 4, 2, 3, 4, 4, 1, 4, 4, 2, 3, 1, 1, 1, 2, 3, 3, 2, 3, 3, 4, 3, 4, 4, 4, 3, 3, 4, 2, 2, 2, 3, 2, 1, 2, 1, 3, 3, 1, 4, 3, 2, 1, 1, 4, 1, 1, 4, 1, 3, 1, 2, 1, 2, 2, 1, 1, 1, 4, 4, 4, 1, 3, 4, 3, 2, 2, 4, 4, 1, 2, 3, 3, 4, 3, 4, 4, 1, 4, 1, 1, 4, 1, 1, 3, 2, 2, 1, 3, 1, 1, 4, 1, 1, 4, 3, 2, 3, 2, 3, 2, 1, 1, 4, 4, 3, 4, 3, 2, 2, 1, 3, 4, 4, 1, 2, 2, 4, 3, 3, 3, 3, 2, 1, 2, 3, 3, 4, 2, 4, 4, 3, 1, 3, 1, 3, 2, 1, 3, 3, 2, 2, 1, 4, 4, 3, 2, 1, 4, 1, 1, 1, 2, 1, 1, 4, 3, 4, 3, 2, 2, 1, 1, 1, 1, 1, 1, 3, 1, 3, 2, 1, 4, 1, 4, 4, 3, 3, 2, 2, 3, 4, 3, 1, 4, 2, 2, 3, 2, 1, 3, 2, 1, 3, 1, 2, 2, 4, 3, 4, 3, 4, 1, 1, 4, 4, 1, 4, 2, 4, 4, 1, 1, 1, 1, 1, 3, 1, 2, 3, 2, 2, 1, 4, 1, 1, 4, 3, 1, 3, 2, 1, 2, 2, 1, 2, 1, 1, 1, 2, 3, 3, 1, 3, 1, 2, 1, 2, 1, 3, 2, 3, 1, 3, 1, 1, 2, 1, 1, 4, 1, 3, 3, 3, 3, 3, 2, 2, 3, 1, 3, 2, 3, 2, 2, 2, 3, 3, 1, 1, 1, 4, 4, 4, 2, 2, 3, 1, 1, 1, 2, 3, 4, 1, 1, 1, 1, 3, 4, 3, 4, 3, 2, 1, 1, 1, 4, 4, 4, 3, 1, 2, 3, 2, 2, 2, 3, 4, 3, 4, 3, 4, 4, 3, 3, 4, 3, 2, 3, 2, 2, 3, 3, 3, 3, 1, 4, 1, 2, 3, 3, 2, 1, 3, 4, 1, 1, 1, 1, 4, 3, 3, 1, 2, 1, 2, 4, 4, 3, 1, 3, 3, 4, 4, 1, 1, 4, 3, 2, 4, 1, 4, 4, 3, 2, 1, 1, 1, 1, 1, 4, 3, 3, 1, 3, 2, 2, 4, 3, 3, 4, 4, 4, 3, 2, 4, 3, 3, 1, 1, 1, 4, 4, 1, 3, 4, 3, 1, 4, 3, 1, 1, 2, 4, 3, 1, 4, 4, 3, 2, 1, 3, 4, 3, 3, 2, 1, 1, 3, 4, 1, 4, 3, 4, 4, 1, 3, 2, 2, 2, 1, 1, 1, 4, 3, 4, 4, 3, 3, 3, 2, 4, 3, 1, 3, 4, 1, 2, 4, 3, 2, 4, 3, 3, 3, 4, 4, 1, 4, 4, 3, 3, 4, 3, 3, 1, 2, 1, 3, 2, 1, 1, 2, 1, 1, 4, 1, 4, 4, 4, 3, 3, 3, 4, 1, 1, 2, 2, 2, 3, 3, 1, 3, 2, 3, 2, 2, 1, 1, 4, 1, 2, 3, 2, 3, 4, 3, 3, 2, 4, 3, 1, 2, 1, 1, 4, 3, 1, 2, 4, 1, 1, 2, 4, 1, 1, 4, 3, 4, 4, 2, 3, 2, 1, 4, 3, 4, 3, 2, 2, 3, 4, 3, 3, 4, 4, 2, 2, 4, 4, 4, 2, 3, 3, 3, 4, 1, 4, 3, 2, 1, 2, 2, 1, 2, 4, 1, 2, 4, 3, 3, 4, 2, 3, 4, 2, 4, 1, 3, 3, 3, 2, 2, 1, 2, 2, 2, 2, 1, 2, 2, 1, 4, 4, 1, 1, 1, 1, 1, 4, 2, 3, 2, 4, 2, 1, 3, 2, 2, 4, 3, 1, 2, 3, 2, 4, 3, 3, 4, 3, 2, 2, 4, 1, 1, 1, 1, 1, 3, 2, 3, 4, 1, 4, 3, 2, 3, 4, 2, 1, 2, 2, 3, 4, 1, 1, 2, 1, 1, 4, 1, 4, 4, 2, 2, 1, 3, 4, 3, 4, 2, 4, 1, 2, 4, 1, 1, 1, 3, 4, 4, 4, 2, 3, 2, 2, 1, 1, 2, 1, 3, 4, 3, 4, 1, 2, 3, 4, 1, 4, 2, 1, 2, 2, 3, 4, 2, 3, 3, 4, 3, 1, 1, 2, 1, 1, 3, 2, 3, 4, 1, 1, 2, 1, 3, 4, 1, 4, 1, 2, 3, 4, 1, 1, 4, 3, 4, 1, 1, 1, 2, 4, 4, 1, 1, 1, 3, 1, 2, 2, 1, 1, 2, 4, 1, 2, 4, 2, 1, 4, 2, 1, 1, 4, 3, 2, 2, 1, 4, 4, 1, 4, 2, 3, 2, 2, 3, 2, 2, 2, 3, 4, 3, 1, 2, 3, 1, 1, 1, 4, 2, 3, 2, 3, 4, 2, 4, 3, 4, 2, 3, 4, 3, 3, 2, 3, 4, 1, 1, 1, 4, 1, 1, 4, 1, 4, 4, 3, 3, 2, 1, 4, 1, 1, 1, 3, 4, 1, 2, 2, 3, 2, 4, 4, 1, 4, 4, 2, 2, 1, 4, 4, 1, 1, 1, 2, 4, 4, 4, 2, 4, 1, 1, 3, 3, 2, 4, 4, 4, 1, 2, 1, 1, 2, 2, 4, 1, 1, 4, 1, 2, 4, 2, 1, 4, 4, 4, 3, 3, 2, 2, 2, 2, 3, 3, 2, 3, 3, 2, 2, 4, 2, 4, 1, 1, 1, 3, 1, 4, 3, 3, 4, 3, 2, 2, 4, 1, 1, 3, 1, 4, 3, 2, 1, 2, 4, 3, 3, 2, 1, 2, 1, 3, 2, 3, 2, 3, 4, 3, 4, 1, 3, 2, 1, 4, 1, 1, 1, 3, 4, 4, 1, 3, 2, 4, 3, 3, 1, 2, 3, 1, 1, 1, 1, 2, 1, 3, 1, 1, 4, 1, 4, 2, 2, 2, 4, 1, 1, 4, 1, 1, 3, 2, 4, 1, 3, 3, 3, 2, 2, 2, 4, 4, 3, 2, 3, 1, 4, 1, 1, 2, 4, 3, 4, 3, 3, 2, 2, 1, 2, 4, 4, 4, 1, 2, 3, 1, 3, 1, 4, 1, 1, 3, 2, 3, 2, 2, 1, 2, 1, 1, 3, 1, 1, 1, 2, 1, 1, 4, 4, 3, 2, 1, 4, 1, 2, 3, 4, 1, 1, 1, 4, 3, 3, 1, 4, 1, 4, 4, 4, 3, 3, 2, 2, 3, 3, 2, 2, 2, 3, 4, 3, 1, 2, 3, 2, 4, 4, 1, 3, 1, 2, 3, 4, 2, 2, 4, 1, 4, 3, 2, 3, 3, 2, 3, 4, 1, 2, 1, 1, 3, 2, 3, 4, 1, 4, 3, 2, 1, 1, 3, 3, 4, 1, 1, 4, 1, 3, 4, 1, 1, 4, 1, 4, 4, 3, 3, 4, 4, 3, 4, 4, 1, 4, 1, 3, 4, 4, 3, 2, 2, 3, 4, 1, 2, 2, 4, 3, 3, 1, 2, 2, 1, 2, 4, 1, 1, 2, 2, 4, 3, 4, 4, 1, 3, 2, 4, 4, 2, 1, 3, 2, 4, 1, 2, 3, 1, 2, 3, 3, 2, 2, 3, 1, 2, 2, 3, 4, 1, 2, 4, 3, 1, 4, 3, 3, 3, 4, 4, 2, 2, 4, 3, 4, 1, 1, 2, 4, 4, 1, 1, 2, 1, 2, 1, 4, 4, 3, 4, 2, 4, 3, 2, 2, 2, 4, 4, 4, 4, 2, 1, 2, 1, 1, 2, 2, 2, 3, 2, 2, 3, 2, 2, 4, 3, 1, 1, 4, 3, 1, 1, 4, 1, 4, 4, 1, 1, 3, 2, 1, 4, 1, 4, 4, 2, 2, 4, 2, 4, 3, 1, 4, 1, 1, 4, 3, 4, 3, 3, 2, 2, 2, 4, 4, 1, 2, 4, 4, 1, 3, 3, 2, 1, 1, 1, 3, 1, 4, 1, 3, 1, 4, 1, 4, 3, 3, 2, 2, 1, 1, 1, 2, 1, 4, 1, 1, 3, 2, 3, 4, 4, 2, 4, 1, 3, 1, 4, 1, 1, 2, 2, 2, 4, 2, 2, 1, 1, 3, 2, 3, 3, 3, 2, 1, 3, 2, 2, 3, 2, 2, 1, 4, 3, 4, 3, 3, 4, 4, 3, 2, 3, 2, 3, 2, 1, 2, 4, 3, 1, 2, 3, 3, 2, 4, 1, 2, 3, 4, 3, 2, 2, 2, 1, 1, 3, 3, 3, 2, 4, 1, 1, 1, 4, 3, 1, 4, 2, 4, 1, 2, 4, 3, 1, 1, 3, 4, 4, 1, 3, 4, 3, 4, 3, 3, 2, 4, 4, 3, 4, 4, 4, 3, 3, 1, 4, 3, 1, 1, 1, 2, 2, 2, 1, 1, 2, 3, 4, 3, 2, 1, 3, 2, 1, 3, 2, 4, 4, 4, 1, 2, 1, 3, 3, 2, 1, 1, 3, 3, 3, 1, 4, 3, 2, 4, 1, 1, 1, 2, 2, 1, 1, 1, 1, 2, 2, 2, 4, 1, 1, 1, 4, 4, 1, 1, 3, 3, 2, 3, 3, 1, 3, 2, 4, 1, 2, 2, 4, 1, 4, 4, 1, 1, 1, 1, 1, 3, 4, 1, 2, 4, 1, 4, 1, 3, 3, 3, 2, 4, 4, 4, 1, 3, 2, 4, 1, 2, 3, 4, 3, 4, 4, 4, 3, 1, 2, 4, 3, 3, 4, 4, 1, 4, 1, 2, 1, 1, 4, 4, 3, 3, 4, 1, 3, 4, 2, 4, 3, 1, 2, 2, 2, 4, 2, 3, 2, 4, 3, 2, 2, 2, 2, 1, 2, 4, 4, 1, 3, 4, 1, 2, 3, 1, 3, 4, 1, 2, 1, 4, 1, 4, 3, 1, 3, 4, 3, 3, 4, 4, 1, 2, 2, 3, 2, 2, 3, 2, 1, 1, 4, 1, 4, 3, 2, 2, 4, 3, 3, 3, 2, 1, 1, 2, 2, 4, 2, 3, 4, 2, 4, 1, 4, 4, 3, 2, 3, 2, 2, 4, 3, 4, 4, 2, 4, 4, 3, 4, 4, 4, 3, 1, 3, 2, 2, 3, 3, 2, 2, 4, 3, 4, 1, 3, 4, 1, 1, 1, 2, 2, 3, 2, 2, 4, 3, 2, 2, 3, 2, 2, 3, 3, 3, 1, 3, 3, 1, 1, 2, 1, 1, 1, 2, 3, 1, 3, 3, 3, 2, 2, 4, 4, 3, 3, 2, 2, 2, 4, 2, 3, 3, 4, 3, 2, 3, 3, 2, 1, 2, 4, 1, 3, 2, 1, 2, 3, 1, 3, 3, 1, 4, 3, 1, 3, 2, 3, 2, 3, 1, 3, 2, 4, 1, 3, 4, 3, 3, 1, 4, 2, 1, 3, 2, 1, 3, 2, 4, 2, 4, 3, 3, 1, 1, 4, 1, 1, 4, 1, 1, 1, 4, 4, 1, 3, 2, 4, 1, 3, 3, 2, 4, 1, 1, 1, 4, 4, 1, 1, 2, 4, 1, 4, 1, 2, 1, 2, 4, 4, 4, 1, 4, 4, 1, 2, 4, 4, 2, 2, 1, 1, 2, 2, 1, 4, 1, 4, 3, 3, 3, 4, 3, 2, 1, 2, 1, 3, 1, 4, 4, 3, 1, 1, 2, 2, 4, 4, 1, 1, 3, 4, 3, 2, 1, 3, 4, 3, 1, 4, 1, 4, 4, 4, 1, 2, 2, 3, 3, 1, 1, 3, 2, 4, 2, 4, 4, 4, 3, 4, 1, 1, 4, 1, 2, 2, 2, 3, 2, 2, 1, 1, 3, 2, 1, 2, 1, 4, 3, 2, 2, 2, 1, 1, 3, 2, 3, 3, 2, 2, 2, 4, 4, 1, 4, 2, 2, 3, 4, 1, 1, 3, 3, 2, 3, 4, 4, 4, 1, 4, 4, 1, 4, 4, 1, 4, 4, 1, 1, 4, 1, 4, 4, 1, 4, 1, 4, 3, 3, 3, 4, 1, 1, 1, 1, 4, 4, 1, 1, 2, 1, 3, 2, 1, 1, 2, 4, 3, 3, 1, 3, 3, 3, 3, 1, 3, 2, 3, 4, 3, 1, 1, 3, 1, 3, 3, 1, 2, 4, 3, 3, 4, 4, 3, 3, 2, 4, 4, 1, 4, 4, 1, 1, 3, 2, 2, 3, 3, 4, 3, 2, 2, 1, 2, 3, 1, 4, 4, 1, 1, 1, 1, 2, 4, 3, 1, 3, 2, 3, 1, 4, 4, 1, 2, 2, 4, 1, 2, 4, 1, 1, 4, 1, 1, 3, 3, 4, 3, 3, 1, 2, 2, 1, 3, 4, 1, 1, 1, 1, 3, 2, 2, 1, 3, 1, 3, 3, 3, 4, 1, 2, 2, 2, 2, 3, 1, 2, 3, 3, 1, 1, 2, 1, 1, 3, 2, 4, 1, 4, 4, 1, 4, 3, 4, 3, 2, 4, 3, 3, 4, 3, 3, 3, 1, 2, 1, 1, 1, 2, 4, 3, 3, 3, 4, 3, 2, 4, 1, 4, 4, 4, 4, 1, 3, 2, 4, 3, 3, 3, 4, 3, 3, 4, 1, 4, 1, 1, 4, 1, 4, 1, 4, 4, 4, 3, 2, 1, 4, 3, 4, 4, 1, 4, 4, 4, 3, 4, 3, 4, 1, 1, 4, 4, 3, 3, 3, 2, 3, 4, 2, 2, 2, 1, 4, 1, 1, 1, 4, 3, 3, 1, 4, 4, 1, 4, 4, 3, 2, 4, 1, 1, 3, 1, 4, 4, 3, 2, 2, 3, 3, 3, 3, 2, 1, 1, 3, 3, 3, 4, 1, 1, 1, 1, 3, 1, 4, 3, 3, 4, 1, 1, 1, 3, 4, 1, 2, 1, 1, 2, 3, 3, 3, 2, 2, 3, 1, 1, 3, 2, 3, 1, 4, 1, 4, 3, 3, 4, 3, 1, 3, 3, 4, 3, 1, 4, 4, 4, 1, 1, 2, 3, 3, 2, 3, 2, 1, 2, 2, 4, 2, 3, 2, 1, 4, 1, 4, 3, 2, 1, 4, 3, 1, 4, 3, 1, 4, 1, 1, 2, 3, 1, 3, 2, 1, 4, 3, 3, 4, 3, 1, 3, 2, 3, 4, 1, 3, 3, 1, 1, 4, 1, 3, 4, 1, 4, 3, 2, 4, 3, 1, 2, 2, 1, 4, 3, 1, 1, 3, 4, 3, 3, 1, 4, 4, 1, 4, 4, 3, 3, 2, 2, 2, 3, 2, 1, 3, 1, 1, 1, 3, 3, 3, 2, 1, 3, 1, 3, 2, 2, 4, 3, 2, 1, 1, 1, 4, 1, 3, 4, 3, 2, 2, 1, 3, 1, 3, 2, 4, 1, 2, 4, 1, 1, 3, 4, 4, 1, 1, 3, 3, 4, 1, 1, 3, 1, 1, 4, 1, 4, 4, 2, 1, 1, 3, 4, 1, 4, 4, 1, 2, 4, 1, 2, 2, 3, 4, 3, 4, 1, 4, 1, 3, 3, 1, 2, 1, 1, 4, 1, 1, 1, 2, 4, 1, 1, 4, 3, 2, 2, 3, 1, 4, 4, 3, 1, 2, 3, 3, 2, 2, 1, 1, 1, 4, 1, 3, 1, 1, 3, 2, 1, 1, 1, 1, 4, 1, 1, 1, 3, 2, 4, 1, 2, 4, 1, 4, 1, 1, 2, 1, 2, 2, 4, 1, 1, 1, 1, 1, 3, 2, 3, 3, 3, 4, 4, 4, 4, 3, 3, 3, 3, 4, 4, 1, 2, 2, 3, 1, 1, 1, 3, 2, 1, 1, 4, 1, 3, 3, 3, 2, 2, 2, 3, 4, 4, 4, 1, 3, 1, 1, 4, 1, 4, 1, 3, 1, 4, 1, 1, 1, 2, 1, 1, 1, 2, 3, 3, 4, 4, 1, 2, 4, 1, 1, 3, 1, 2, 1, 4, 4, 1, 2, 2, 4, 4, 3, 3, 2, 1, 4, 3, 3, 2, 2, 2, 3, 4, 3, 4, 4, 1, 1, 4, 3, 4, 4, 1, 4, 4, 1, 3, 4, 3, 3, 2, 4, 3, 3, 2, 2, 3, 4, 2, 1, 2, 3, 2, 2, 2, 4, 4, 4, 4, 4, 4, 1, 1, 4, 4, 1, 4, 4, 1, 3, 3, 2, 4, 1, 2, 2, 3, 2, 4, 4, 3, 3, 4, 3, 2, 2, 4, 4, 3, 2, 1, 4, 2, 4, 3, 1, 2, 2, 2, 3, 1, 2, 1, 1, 2, 1, 1, 2, 1, 1, 2, 1, 2, 2, 1, 2, 4, 4, 3, 2, 4, 2, 2, 3, 4, 3, 3, 4, 1, 1, 3, 2, 1, 4, 4, 4, 3, 3, 3, 3, 2, 2, 1, 1, 4, 2, 2, 2, 4, 4, 4, 1, 2, 1, 1, 4, 4, 1, 2, 1, 4, 4, 3, 4, 3, 4, 3, 2, 1, 1, 4, 4, 3, 3, 4, 4, 2, 1, 3, 2, 1, 2, 2, 1, 2, 2, 1, 4, 2, 3, 1, 2, 2, 1, 2, 1, 3, 2, 1, 3, 2, 1, 4, 1, 3, 3, 2, 1, 1, 2, 4, 1, 2, 2, 2, 2, 3, 3, 2, 1, 2, 3, 4, 3, 2, 1, 3, 1, 4, 1, 2, 1, 4, 3, 4, 4, 4, 3, 4, 1, 4, 3, 2, 1, 3, 2, 3, 2, 1, 4, 1, 2, 1, 4, 1, 4, 1, 2, 1, 3, 2, 1, 1, 2, 1, 2, 1, 4, 1, 2, 1, 2, 3, 1, 3, 2, 1, 2, 3, 4, 3, 2, 1, 3, 2, 4, 3, 2, 2, 4, 2, 1, 3, 2, 1, 3, 2, 1, 1, 1, 4, 3, 2, 3, 3, 2, 4, 4, 3, 4, 4, 1, 2, 1, 4, 2, 3, 4, 3, 1, 4, 3, 4, 4, 3, 3, 1, 3, 2, 1, 1, 3, 1, 4, 4, 1, 3, 2, 1, 3, 3, 1, 1, 3, 4, 1, 1, 2, 2, 3, 1, 3, 3, 4, 4, 1, 2, 1, 1, 2, 1, 1, 4, 1, 1, 2, 4, 3, 2, 4, 3, 1, 2, 1, 2, 4, 1, 2, 4, 3, 2, 3, 3, 4, 2, 2, 2, 4, 2, 3, 3, 3, 4, 4, 1, 1, 4, 3, 2, 4, 4, 2, 4, 4, 4, 1, 1, 4, 1, 1, 2, 3, 3, 2, 1, 1, 1, 1, 2, 1, 1, 4, 1, 4, 4, 3, 3, 3, 3, 3, 2, 2, 3, 2, 2, 4, 2, 4, 3, 3, 2, 4, 1, 2, 1, 3, 2, 2, 2, 3, 3, 3, 3, 4, 1, 4, 4, 4, 1, 2, 2, 4, 1, 2, 2, 4, 2, 4, 2, 3, 2, 4, 1, 2, 1, 3, 2, 4, 3, 1, 1, 2, 1, 1, 1, 2, 4, 1, 2, 4, 3, 2, 4, 1, 2, 1, 4, 3, 3, 3, 3, 4, 2, 3, 4, 1, 1, 2, 4, 4, 2, 1, 2, 2, 4, 4, 1, 4, 2, 4, 4, 2, 1, 2, 3, 1, 2, 2, 1, 3, 4, 2, 1, 2, 2, 2, 3, 1, 4, 1, 2, 4, 3, 3, 2, 1, 4, 3, 3, 4, 3, 3, 3, 3, 3, 2, 3, 4, 3, 4, 3, 3, 3, 3, 3, 2, 1, 1, 4, 3, 3, 3, 1, 1, 3, 2, 1, 3, 3, 4, 3, 1, 1, 3, 4, 1, 3, 4, 1, 3, 3, 3, 3, 1, 1, 1, 3, 3, 3, 3, 1, 1, 3, 4, 1, 2, 3, 3, 2, 2, 4, 1, 1, 1, 1, 1]\n"
     ]
    },
    {
     "data": {
      "text/html": [
       "<div>\n",
       "<style scoped>\n",
       "    .dataframe tbody tr th:only-of-type {\n",
       "        vertical-align: middle;\n",
       "    }\n",
       "\n",
       "    .dataframe tbody tr th {\n",
       "        vertical-align: top;\n",
       "    }\n",
       "\n",
       "    .dataframe thead th {\n",
       "        text-align: right;\n",
       "    }\n",
       "</style>\n",
       "<table border=\"1\" class=\"dataframe\">\n",
       "  <thead>\n",
       "    <tr style=\"text-align: right;\">\n",
       "      <th></th>\n",
       "      <th>Locus</th>\n",
       "      <th>Position/Length Indicator?</th>\n",
       "      <th>Virus Name</th>\n",
       "      <th>Genome</th>\n",
       "      <th>Estimated Transmission Level</th>\n",
       "    </tr>\n",
       "  </thead>\n",
       "  <tbody>\n",
       "    <tr>\n",
       "      <th>0</th>\n",
       "      <td>NC_034975</td>\n",
       "      <td>1239568</td>\n",
       "      <td>Mamastrovirus 4</td>\n",
       "      <td>[1, 1, 2, 1, 1, 2, 2, 1, 2, 2, 3, 3, 1, 3, 4, ...</td>\n",
       "      <td>4b</td>\n",
       "    </tr>\n",
       "    <tr>\n",
       "      <th>1</th>\n",
       "      <td>NC_001560</td>\n",
       "      <td>1972577</td>\n",
       "      <td>Indiana vesiculovirus</td>\n",
       "      <td>[1, 4, 2, 1, 1, 2, 1, 4, 1, 1, 1, 4, 1, 1, 1, ...</td>\n",
       "      <td>2</td>\n",
       "    </tr>\n",
       "    <tr>\n",
       "      <th>2</th>\n",
       "      <td>NC_038236</td>\n",
       "      <td>1972577</td>\n",
       "      <td>Indiana vesiculovirus</td>\n",
       "      <td>[1, 4, 2, 1, 1, 2, 1, 4, 1, 1, 1, 4, 1, 1, 1, ...</td>\n",
       "      <td>2</td>\n",
       "    </tr>\n",
       "    <tr>\n",
       "      <th>3</th>\n",
       "      <td>NC_021928</td>\n",
       "      <td>2560526</td>\n",
       "      <td>Human orthorubulavirus 4</td>\n",
       "      <td>[1, 4, 4, 1, 1, 2, 2, 2, 2, 1, 2, 1, 1, 2, 1, ...</td>\n",
       "      <td>4b</td>\n",
       "    </tr>\n",
       "    <tr>\n",
       "      <th>4</th>\n",
       "      <td>NC_014373</td>\n",
       "      <td>565995</td>\n",
       "      <td>Bundibugyo ebolavirus</td>\n",
       "      <td>[4, 2, 2, 1, 4, 1, 4, 1, 4, 1, 1, 1, 1, 1, 2, ...</td>\n",
       "      <td>3</td>\n",
       "    </tr>\n",
       "  </tbody>\n",
       "</table>\n",
       "</div>"
      ],
      "text/plain": [
       "       Locus  Position/Length Indicator?                Virus Name  \\\n",
       "0  NC_034975                     1239568           Mamastrovirus 4   \n",
       "1  NC_001560                     1972577     Indiana vesiculovirus   \n",
       "2  NC_038236                     1972577     Indiana vesiculovirus   \n",
       "3  NC_021928                     2560526  Human orthorubulavirus 4   \n",
       "4  NC_014373                      565995     Bundibugyo ebolavirus   \n",
       "\n",
       "                                              Genome  \\\n",
       "0  [1, 1, 2, 1, 1, 2, 2, 1, 2, 2, 3, 3, 1, 3, 4, ...   \n",
       "1  [1, 4, 2, 1, 1, 2, 1, 4, 1, 1, 1, 4, 1, 1, 1, ...   \n",
       "2  [1, 4, 2, 1, 1, 2, 1, 4, 1, 1, 1, 4, 1, 1, 1, ...   \n",
       "3  [1, 4, 4, 1, 1, 2, 2, 2, 2, 1, 2, 1, 1, 2, 1, ...   \n",
       "4  [4, 2, 2, 1, 4, 1, 4, 1, 4, 1, 1, 1, 1, 1, 2, ...   \n",
       "\n",
       "  Estimated Transmission Level  \n",
       "0                           4b  \n",
       "1                            2  \n",
       "2                            2  \n",
       "3                           4b  \n",
       "4                            3  "
      ]
     },
     "execution_count": 59,
     "metadata": {},
     "output_type": "execute_result"
    }
   ],
   "source": [
    "# define a vocabulary, this should be a mapping from all of the possible characters\n",
    "# that can appear in our sequence\n",
    "# we can either do this manually by defining a dictionary and writing {'A': 0, 'G': 1, 'T': 2, ...}\n",
    "# or you can use torchtext.vocab.build_vocab_from_iterator (this is probably easier)\n",
    "from torchtext.vocab import vocab\n",
    "from torchtext.data.utils import get_tokenizer\n",
    "\n",
    "sample_sequence = viralData.iloc[0, 3]\n",
    "\n",
    "vocabs = od()\n",
    "vocabs[\"A\"] = int(1)\n",
    "vocabs[\"G\"] = int(2)\n",
    "vocabs[\"T\"] = int(3)\n",
    "vocabs[\"C\"] = int(4)\n",
    "vocabs[\"U\"] = int(5)\n",
    "# print(\"Vocab is: {}\".format(vocabs)) # sanity check that all of the possible values are reflected\n",
    "\n",
    "vocab = vocab(vocabs, specials=[\"<unk>\"])\n",
    "vocab.set_default_index(vocab[\"<unk>\"])\n",
    "tokenizer = get_tokenizer(vocab)\n",
    "print(tokenizer(list(sample_sequence)))\n",
    "\n",
    "viralData[\"Genome\"] = viralData[\"Genome\"].map(lambda x: tokenizer(list(x)))\n",
    "viralData.head()"
   ]
  },
  {
   "cell_type": "code",
   "execution_count": 60,
   "metadata": {
    "colab": {
     "base_uri": "https://localhost:8080/",
     "height": 475
    },
    "id": "rmqUidn-NZIr",
    "outputId": "3c3e69c8-6ffa-4b69-b91d-e9f4a2e7ef03"
   },
   "outputs": [
    {
     "name": "stdout",
     "output_type": "stream",
     "text": [
      "Index(['Locus', 'Position/Length Indicator?', 'Virus Name', 'Genome',\n",
      "       'Estimated Transmission Level'],\n",
      "      dtype='object')\n"
     ]
    },
    {
     "data": {
      "text/html": [
       "<div>\n",
       "<style scoped>\n",
       "    .dataframe tbody tr th:only-of-type {\n",
       "        vertical-align: middle;\n",
       "    }\n",
       "\n",
       "    .dataframe tbody tr th {\n",
       "        vertical-align: top;\n",
       "    }\n",
       "\n",
       "    .dataframe thead th {\n",
       "        text-align: right;\n",
       "    }\n",
       "</style>\n",
       "<table border=\"1\" class=\"dataframe\">\n",
       "  <thead>\n",
       "    <tr style=\"text-align: right;\">\n",
       "      <th></th>\n",
       "      <th>Locus</th>\n",
       "      <th>Position/Length Indicator?</th>\n",
       "      <th>Virus Name</th>\n",
       "      <th>Genome</th>\n",
       "      <th>Estimated Transmission Level</th>\n",
       "    </tr>\n",
       "  </thead>\n",
       "  <tbody>\n",
       "    <tr>\n",
       "      <th>0</th>\n",
       "      <td>NC_034975</td>\n",
       "      <td>1239568</td>\n",
       "      <td>Mamastrovirus 4</td>\n",
       "      <td>[1, 1, 2, 1, 1, 2, 2, 1, 2, 2, 3, 3, 1, 3, 4, ...</td>\n",
       "      <td>4b</td>\n",
       "    </tr>\n",
       "    <tr>\n",
       "      <th>1</th>\n",
       "      <td>NC_001560</td>\n",
       "      <td>1972577</td>\n",
       "      <td>Indiana vesiculovirus</td>\n",
       "      <td>[1, 4, 2, 1, 1, 2, 1, 4, 1, 1, 1, 4, 1, 1, 1, ...</td>\n",
       "      <td>2</td>\n",
       "    </tr>\n",
       "    <tr>\n",
       "      <th>2</th>\n",
       "      <td>NC_038236</td>\n",
       "      <td>1972577</td>\n",
       "      <td>Indiana vesiculovirus</td>\n",
       "      <td>[1, 4, 2, 1, 1, 2, 1, 4, 1, 1, 1, 4, 1, 1, 1, ...</td>\n",
       "      <td>2</td>\n",
       "    </tr>\n",
       "    <tr>\n",
       "      <th>3</th>\n",
       "      <td>NC_021928</td>\n",
       "      <td>2560526</td>\n",
       "      <td>Human orthorubulavirus 4</td>\n",
       "      <td>[1, 4, 4, 1, 1, 2, 2, 2, 2, 1, 2, 1, 1, 2, 1, ...</td>\n",
       "      <td>4b</td>\n",
       "    </tr>\n",
       "    <tr>\n",
       "      <th>4</th>\n",
       "      <td>NC_014373</td>\n",
       "      <td>565995</td>\n",
       "      <td>Bundibugyo ebolavirus</td>\n",
       "      <td>[4, 2, 2, 1, 4, 1, 4, 1, 4, 1, 1, 1, 1, 1, 2, ...</td>\n",
       "      <td>3</td>\n",
       "    </tr>\n",
       "    <tr>\n",
       "      <th>...</th>\n",
       "      <td>...</td>\n",
       "      <td>...</td>\n",
       "      <td>...</td>\n",
       "      <td>...</td>\n",
       "      <td>...</td>\n",
       "    </tr>\n",
       "    <tr>\n",
       "      <th>375</th>\n",
       "      <td>HM181996</td>\n",
       "      <td>2734523</td>\n",
       "      <td>Cardiovirus D</td>\n",
       "      <td>[3, 3, 3, 2, 1, 1, 4, 2, 4, 2, 2, 2, 1, 4, 4, ...</td>\n",
       "      <td>2</td>\n",
       "    </tr>\n",
       "    <tr>\n",
       "      <th>376</th>\n",
       "      <td>MG210578</td>\n",
       "      <td>2044876</td>\n",
       "      <td>Human hepegivirus 1</td>\n",
       "      <td>[1, 1, 4, 3, 2, 3, 3, 2, 3, 3, 2, 3, 1, 2, 4, ...</td>\n",
       "      <td>4a</td>\n",
       "    </tr>\n",
       "    <tr>\n",
       "      <th>377</th>\n",
       "      <td>MW149253</td>\n",
       "      <td>1912147</td>\n",
       "      <td>Mamastrovirus sp.</td>\n",
       "      <td>[4, 4, 1, 1, 2, 1, 4, 1, 2, 2, 3, 2, 2, 3, 2, ...</td>\n",
       "      <td>4b</td>\n",
       "    </tr>\n",
       "    <tr>\n",
       "      <th>378</th>\n",
       "      <td>MG026496</td>\n",
       "      <td>2039694</td>\n",
       "      <td>Salivirus sp.</td>\n",
       "      <td>[2, 2, 4, 2, 2, 2, 4, 3, 3, 2, 3, 2, 2, 1, 4, ...</td>\n",
       "      <td>4a</td>\n",
       "    </tr>\n",
       "    <tr>\n",
       "      <th>379</th>\n",
       "      <td>M32559</td>\n",
       "      <td>1906931</td>\n",
       "      <td>Human rotavirus</td>\n",
       "      <td>[2, 2, 4, 3, 1, 3, 1, 1, 1, 1, 3, 2, 2, 4, 3, ...</td>\n",
       "      <td>4b</td>\n",
       "    </tr>\n",
       "  </tbody>\n",
       "</table>\n",
       "<p>380 rows × 5 columns</p>\n",
       "</div>"
      ],
      "text/plain": [
       "         Locus  Position/Length Indicator?                Virus Name  \\\n",
       "0    NC_034975                     1239568           Mamastrovirus 4   \n",
       "1    NC_001560                     1972577     Indiana vesiculovirus   \n",
       "2    NC_038236                     1972577     Indiana vesiculovirus   \n",
       "3    NC_021928                     2560526  Human orthorubulavirus 4   \n",
       "4    NC_014373                      565995     Bundibugyo ebolavirus   \n",
       "..         ...                         ...                       ...   \n",
       "375   HM181996                     2734523             Cardiovirus D   \n",
       "376   MG210578                     2044876       Human hepegivirus 1   \n",
       "377   MW149253                     1912147         Mamastrovirus sp.   \n",
       "378   MG026496                     2039694             Salivirus sp.   \n",
       "379     M32559                     1906931           Human rotavirus   \n",
       "\n",
       "                                                Genome  \\\n",
       "0    [1, 1, 2, 1, 1, 2, 2, 1, 2, 2, 3, 3, 1, 3, 4, ...   \n",
       "1    [1, 4, 2, 1, 1, 2, 1, 4, 1, 1, 1, 4, 1, 1, 1, ...   \n",
       "2    [1, 4, 2, 1, 1, 2, 1, 4, 1, 1, 1, 4, 1, 1, 1, ...   \n",
       "3    [1, 4, 4, 1, 1, 2, 2, 2, 2, 1, 2, 1, 1, 2, 1, ...   \n",
       "4    [4, 2, 2, 1, 4, 1, 4, 1, 4, 1, 1, 1, 1, 1, 2, ...   \n",
       "..                                                 ...   \n",
       "375  [3, 3, 3, 2, 1, 1, 4, 2, 4, 2, 2, 2, 1, 4, 4, ...   \n",
       "376  [1, 1, 4, 3, 2, 3, 3, 2, 3, 3, 2, 3, 1, 2, 4, ...   \n",
       "377  [4, 4, 1, 1, 2, 1, 4, 1, 2, 2, 3, 2, 2, 3, 2, ...   \n",
       "378  [2, 2, 4, 2, 2, 2, 4, 3, 3, 2, 3, 2, 2, 1, 4, ...   \n",
       "379  [2, 2, 4, 3, 1, 3, 1, 1, 1, 1, 3, 2, 2, 4, 3, ...   \n",
       "\n",
       "    Estimated Transmission Level  \n",
       "0                             4b  \n",
       "1                              2  \n",
       "2                              2  \n",
       "3                             4b  \n",
       "4                              3  \n",
       "..                           ...  \n",
       "375                            2  \n",
       "376                           4a  \n",
       "377                           4b  \n",
       "378                           4a  \n",
       "379                           4b  \n",
       "\n",
       "[380 rows x 5 columns]"
      ]
     },
     "metadata": {},
     "output_type": "display_data"
    }
   ],
   "source": [
    "type(viralData[\"Genome\"][0][0])\n",
    "print(viralData.columns)\n",
    "display(viralData.copy())"
   ]
  },
  {
   "cell_type": "markdown",
   "metadata": {
    "id": "_MD2z6Zijw_a"
   },
   "source": [
    "## Create our dataset"
   ]
  },
  {
   "cell_type": "code",
   "execution_count": 61,
   "metadata": {
    "colab": {
     "base_uri": "https://localhost:8080/",
     "height": 441
    },
    "id": "woL9eXRawefq",
    "outputId": "f1b8bf97-4510-4923-e659-4b459d830c09"
   },
   "outputs": [
    {
     "data": {
      "text/html": [
       "<div>\n",
       "<style scoped>\n",
       "    .dataframe tbody tr th:only-of-type {\n",
       "        vertical-align: middle;\n",
       "    }\n",
       "\n",
       "    .dataframe tbody tr th {\n",
       "        vertical-align: top;\n",
       "    }\n",
       "\n",
       "    .dataframe thead th {\n",
       "        text-align: right;\n",
       "    }\n",
       "</style>\n",
       "<table border=\"1\" class=\"dataframe\">\n",
       "  <thead>\n",
       "    <tr style=\"text-align: right;\">\n",
       "      <th></th>\n",
       "      <th>Locus</th>\n",
       "      <th>Position/Length Indicator?</th>\n",
       "      <th>Virus Name</th>\n",
       "      <th>Genome</th>\n",
       "      <th>Estimated Transmission Level</th>\n",
       "    </tr>\n",
       "  </thead>\n",
       "  <tbody>\n",
       "    <tr>\n",
       "      <th>0</th>\n",
       "      <td>NC_034975</td>\n",
       "      <td>1239568</td>\n",
       "      <td>Mamastrovirus 4</td>\n",
       "      <td>[1, 1, 2, 1, 1, 2, 2, 1, 2, 2, 3, 3, 1, 3, 4, ...</td>\n",
       "      <td>4b</td>\n",
       "    </tr>\n",
       "    <tr>\n",
       "      <th>1</th>\n",
       "      <td>NC_001560</td>\n",
       "      <td>1972577</td>\n",
       "      <td>Indiana vesiculovirus</td>\n",
       "      <td>[1, 4, 2, 1, 1, 2, 1, 4, 1, 1, 1, 4, 1, 1, 1, ...</td>\n",
       "      <td>2</td>\n",
       "    </tr>\n",
       "    <tr>\n",
       "      <th>2</th>\n",
       "      <td>NC_038236</td>\n",
       "      <td>1972577</td>\n",
       "      <td>Indiana vesiculovirus</td>\n",
       "      <td>[1, 4, 2, 1, 1, 2, 1, 4, 1, 1, 1, 4, 1, 1, 1, ...</td>\n",
       "      <td>2</td>\n",
       "    </tr>\n",
       "    <tr>\n",
       "      <th>3</th>\n",
       "      <td>NC_021928</td>\n",
       "      <td>2560526</td>\n",
       "      <td>Human orthorubulavirus 4</td>\n",
       "      <td>[1, 4, 4, 1, 1, 2, 2, 2, 2, 1, 2, 1, 1, 2, 1, ...</td>\n",
       "      <td>4b</td>\n",
       "    </tr>\n",
       "    <tr>\n",
       "      <th>4</th>\n",
       "      <td>NC_014373</td>\n",
       "      <td>565995</td>\n",
       "      <td>Bundibugyo ebolavirus</td>\n",
       "      <td>[4, 2, 2, 1, 4, 1, 4, 1, 4, 1, 1, 1, 1, 1, 2, ...</td>\n",
       "      <td>3</td>\n",
       "    </tr>\n",
       "    <tr>\n",
       "      <th>...</th>\n",
       "      <td>...</td>\n",
       "      <td>...</td>\n",
       "      <td>...</td>\n",
       "      <td>...</td>\n",
       "      <td>...</td>\n",
       "    </tr>\n",
       "    <tr>\n",
       "      <th>375</th>\n",
       "      <td>HM181996</td>\n",
       "      <td>2734523</td>\n",
       "      <td>Cardiovirus D</td>\n",
       "      <td>[3, 3, 3, 2, 1, 1, 4, 2, 4, 2, 2, 2, 1, 4, 4, ...</td>\n",
       "      <td>2</td>\n",
       "    </tr>\n",
       "    <tr>\n",
       "      <th>376</th>\n",
       "      <td>MG210578</td>\n",
       "      <td>2044876</td>\n",
       "      <td>Human hepegivirus 1</td>\n",
       "      <td>[1, 1, 4, 3, 2, 3, 3, 2, 3, 3, 2, 3, 1, 2, 4, ...</td>\n",
       "      <td>4a</td>\n",
       "    </tr>\n",
       "    <tr>\n",
       "      <th>377</th>\n",
       "      <td>MW149253</td>\n",
       "      <td>1912147</td>\n",
       "      <td>Mamastrovirus sp.</td>\n",
       "      <td>[4, 4, 1, 1, 2, 1, 4, 1, 2, 2, 3, 2, 2, 3, 2, ...</td>\n",
       "      <td>4b</td>\n",
       "    </tr>\n",
       "    <tr>\n",
       "      <th>378</th>\n",
       "      <td>MG026496</td>\n",
       "      <td>2039694</td>\n",
       "      <td>Salivirus sp.</td>\n",
       "      <td>[2, 2, 4, 2, 2, 2, 4, 3, 3, 2, 3, 2, 2, 1, 4, ...</td>\n",
       "      <td>4a</td>\n",
       "    </tr>\n",
       "    <tr>\n",
       "      <th>379</th>\n",
       "      <td>M32559</td>\n",
       "      <td>1906931</td>\n",
       "      <td>Human rotavirus</td>\n",
       "      <td>[2, 2, 4, 3, 1, 3, 1, 1, 1, 1, 3, 2, 2, 4, 3, ...</td>\n",
       "      <td>4b</td>\n",
       "    </tr>\n",
       "  </tbody>\n",
       "</table>\n",
       "<p>380 rows × 5 columns</p>\n",
       "</div>"
      ],
      "text/plain": [
       "         Locus  Position/Length Indicator?                Virus Name  \\\n",
       "0    NC_034975                     1239568           Mamastrovirus 4   \n",
       "1    NC_001560                     1972577     Indiana vesiculovirus   \n",
       "2    NC_038236                     1972577     Indiana vesiculovirus   \n",
       "3    NC_021928                     2560526  Human orthorubulavirus 4   \n",
       "4    NC_014373                      565995     Bundibugyo ebolavirus   \n",
       "..         ...                         ...                       ...   \n",
       "375   HM181996                     2734523             Cardiovirus D   \n",
       "376   MG210578                     2044876       Human hepegivirus 1   \n",
       "377   MW149253                     1912147         Mamastrovirus sp.   \n",
       "378   MG026496                     2039694             Salivirus sp.   \n",
       "379     M32559                     1906931           Human rotavirus   \n",
       "\n",
       "                                                Genome  \\\n",
       "0    [1, 1, 2, 1, 1, 2, 2, 1, 2, 2, 3, 3, 1, 3, 4, ...   \n",
       "1    [1, 4, 2, 1, 1, 2, 1, 4, 1, 1, 1, 4, 1, 1, 1, ...   \n",
       "2    [1, 4, 2, 1, 1, 2, 1, 4, 1, 1, 1, 4, 1, 1, 1, ...   \n",
       "3    [1, 4, 4, 1, 1, 2, 2, 2, 2, 1, 2, 1, 1, 2, 1, ...   \n",
       "4    [4, 2, 2, 1, 4, 1, 4, 1, 4, 1, 1, 1, 1, 1, 2, ...   \n",
       "..                                                 ...   \n",
       "375  [3, 3, 3, 2, 1, 1, 4, 2, 4, 2, 2, 2, 1, 4, 4, ...   \n",
       "376  [1, 1, 4, 3, 2, 3, 3, 2, 3, 3, 2, 3, 1, 2, 4, ...   \n",
       "377  [4, 4, 1, 1, 2, 1, 4, 1, 2, 2, 3, 2, 2, 3, 2, ...   \n",
       "378  [2, 2, 4, 2, 2, 2, 4, 3, 3, 2, 3, 2, 2, 1, 4, ...   \n",
       "379  [2, 2, 4, 3, 1, 3, 1, 1, 1, 1, 3, 2, 2, 4, 3, ...   \n",
       "\n",
       "    Estimated Transmission Level  \n",
       "0                             4b  \n",
       "1                              2  \n",
       "2                              2  \n",
       "3                             4b  \n",
       "4                              3  \n",
       "..                           ...  \n",
       "375                            2  \n",
       "376                           4a  \n",
       "377                           4b  \n",
       "378                           4a  \n",
       "379                           4b  \n",
       "\n",
       "[380 rows x 5 columns]"
      ]
     },
     "metadata": {},
     "output_type": "display_data"
    },
    {
     "name": "stdout",
     "output_type": "stream",
     "text": [
      "<class 'numpy.int64'>\n"
     ]
    }
   ],
   "source": [
    "numpyViralData = viralData.copy()\n",
    "\n",
    "for i in range(0, len(viralData[\"Genome\"])):\n",
    "    numpyViralData.at[i, \"Genome\"] = np.array(viralData.loc[i, \"Genome\"])\n",
    "\n",
    "display(numpyViralData)\n",
    "print(type(numpyViralData[\"Genome\"][0][0]))\n",
    "# tensorViralData = tf.convert_to_tensor(numpyViralData)\n",
    "# print(numpyViralData)"
   ]
  },
  {
   "cell_type": "code",
   "execution_count": 62,
   "metadata": {
    "id": "8OmkRYuRn6rk"
   },
   "outputs": [],
   "source": [
    "import torch\n",
    "from torch.utils.data import Dataset\n",
    "\n",
    "# Pytorch defines a nice dataset class that only requires we implement two functions:\n",
    "# 1. __len__\n",
    "# 2. __getitem__\n",
    "# Our dataset is just the set of all samples that we want to train our model on\n",
    "# __len__ should get us the total number of samples\n",
    "# __getitem__ takes in an integer and should give us the corresponding element in the dataset\n",
    "\n",
    "# You might be wondering why they have those weird underscores? That enables us to\n",
    "# call those functions on the class instances directly\n",
    "# For instance if we define an instance of our Dataset class, then we can get the length of it\n",
    "# by invoking `len` on it directly\n",
    "# new_dataset = GenomicR0ValueDataset(some_sample_sequences, some_sample_r0_values, new_tokenizer)\n",
    "# len(new_dataset) # this will call GenomicR0ValueDataset.__len__\n",
    "\n",
    "\n",
    "class viralDataset(Dataset):\n",
    "    def __init__(self, sequences: list, r0_values: np.ndarray, tokenizer):\n",
    "        self.sequences = sequences\n",
    "        self.r0_values = r0_values.clone().detach().numpy()\n",
    "        self.tokenizer = tokenizer\n",
    "        # here we should initialize some class variables using `self.` so that\n",
    "        # we can access them further along\n",
    "        # make sure all of our sequences are tokenized so that when we return them in __getitem__\n",
    "        # we don't have to do any post-processing on them during training\n",
    "\n",
    "    def __len__(self):\n",
    "        return self.r0_values.shape[0]\n",
    "        # this needs to return the number of elements in our dataset\n",
    "        # so this should be the total number of sequences\n",
    "\n",
    "    def __getitem__(self, index):\n",
    "        try:\n",
    "            sequence = self.sequences[index].tolist()\n",
    "            sequence = torch.tensor(sequence, dtype=torch.float32)\n",
    "        except Exception as e:\n",
    "            print(f\"Error processing sequence at index {index}: {e}\")\n",
    "            raise\n",
    "\n",
    "        r0_value = self.r0_values[index]\n",
    "        r0_value = torch.tensor(r0_value).float()\n",
    "        sequence = sequence[:5000]\n",
    "        if sequence.shape[0] < 5000:\n",
    "            padding = torch.zeros(5000 - sequence.shape[0], dtype=torch.float32)\n",
    "            sequence = torch.cat((sequence, padding), dim=0)\n",
    "        # print(\"Sequence shape after padding: {}\".format(sequence.shape))\n",
    "        # print(\"r0_value: {}\".format(r0_value))\n",
    "        return sequence, r0_value\n",
    "        # get item should take in an index and return the corresponding genomic sequence\n",
    "        # AND its r0 value. we need to return both because every time we pass a sequence\n",
    "        # through our model, we need to compare its predicted r0 value to the correct r0\n",
    "        # value. so the format of this output should be returning two things like this:\n",
    "        # return _, _"
   ]
  },
  {
   "cell_type": "markdown",
   "metadata": {
    "id": "RIY2CYd3kwP2"
   },
   "source": [
    "## Create our dataloader"
   ]
  },
  {
   "cell_type": "code",
   "execution_count": 65,
   "metadata": {
    "id": "i2qNku8LNZIu"
   },
   "outputs": [],
   "source": [
    "# imports\n",
    "import torch\n",
    "from torch.utils.data import random_split, DataLoader"
   ]
  },
  {
   "cell_type": "code",
   "execution_count": 66,
   "metadata": {
    "colab": {
     "base_uri": "https://localhost:8080/"
    },
    "id": "8J3WGxrfNZIu",
    "outputId": "918fdae1-726c-42ae-cb27-eec4013e2bf3"
   },
   "outputs": [
    {
     "data": {
      "text/plain": [
       "(380, 5)"
      ]
     },
     "execution_count": 66,
     "metadata": {},
     "output_type": "execute_result"
    }
   ],
   "source": [
    "numpyViralData.shape"
   ]
  },
  {
   "cell_type": "code",
   "execution_count": 67,
   "metadata": {
    "colab": {
     "base_uri": "https://localhost:8080/"
    },
    "id": "ejpLN2GyNZIu",
    "outputId": "2cf93f23-98df-48bc-ec3c-6ec0d18e12f9"
   },
   "outputs": [
    {
     "name": "stdout",
     "output_type": "stream",
     "text": [
      "31028\n"
     ]
    }
   ],
   "source": [
    "# finding the maximum length of the sequences\n",
    "max_len = 0\n",
    "for i in range(0, len(numpyViralData[\"Genome\"])):\n",
    "    if len(numpyViralData[\"Genome\"][i]) > max_len:\n",
    "        max_len = len(numpyViralData[\"Genome\"][i])\n",
    "print(max_len)"
   ]
  },
  {
   "cell_type": "code",
   "execution_count": 68,
   "metadata": {
    "id": "dRBc2mM8NZIv"
   },
   "outputs": [],
   "source": [
    "sequences = []\n",
    "\n",
    "for i in range(numpyViralData.shape[0]):\n",
    "    stacked_array = np.stack(numpyViralData.loc[i, \"Genome\"])\n",
    "    tensor = torch.tensor(stacked_array, dtype=torch.float32)\n",
    "    sequences.append(tensor)"
   ]
  },
  {
   "cell_type": "code",
   "execution_count": 69,
   "metadata": {
    "id": "Tg7R9v83NZIw"
   },
   "outputs": [
    {
     "name": "stdout",
     "output_type": "stream",
     "text": [
      "Possible Transmssion Values: ['2' '3' '4a' '4b']\n"
     ]
    }
   ],
   "source": [
    "# getting the categorical values\n",
    "r0_values = numpyViralData[\"Estimated Transmission Level\"].values\n",
    "print(f\"Possible Transmssion Values: {np.unique(r0_values)}\")\n",
    "\n",
    "# converting those r0 values to a numbers (so it's more categorical)\n",
    "value_dict = {\n",
    "    \"2\": 0,\n",
    "    \"3\": 1,\n",
    "    \"4a\": 2,\n",
    "    \"4b\": 3,\n",
    "}\n",
    "\n",
    "transmission_levels = np.array(numpyViralData[\"Estimated Transmission Level\"])\n",
    "for i in range(len(transmission_levels)):\n",
    "    transmission_levels[i] = value_dict[transmission_levels[i].strip()]\n",
    "\n",
    "stacked_transmission_levels = np.array(transmission_levels).astype(int)\n",
    "tensor_transmission_levels = torch.tensor(\n",
    "    stacked_transmission_levels, dtype=torch.int64\n",
    ")"
   ]
  },
  {
   "cell_type": "code",
   "execution_count": 70,
   "metadata": {
    "id": "fxqTVvWWkzwB"
   },
   "outputs": [],
   "source": [
    "# pytorch dataloaders: https://pytorch.org/tutorials/beginner/basics/data_tutorial.html\n",
    "# dataloaders take in a pytorch.Dataset as an argument (like the one we defined above!)\n",
    "dataset = viralDataset(sequences, tensor_transmission_levels, tokenizer)\n",
    "\n",
    "# define some train test split\n",
    "train_test_ratio = 0.9\n",
    "train_size = int(\n",
    "    train_test_ratio * len(dataset)\n",
    ")  # how convenient that we can called `len` on our dataset!!\n",
    "test_size = len(dataset) - train_size\n",
    "\n",
    "# now use random_split from torch.utils.data to define our two datasets\n",
    "train_dataset, test_dataset = random_split(\n",
    "    dataset, [train_size, test_size], generator=torch.Generator().manual_seed(42)\n",
    ")\n",
    "\n",
    "# define our batch_size\n",
    "batch_size = (\n",
    "    4  # batch size defines how many sequences our model will be processing at once\n",
    ")\n",
    "# higher batch sizes mean training will be faster, but will make updates slightly less precisely (will talk about this in person)\n",
    "# another thing to keep in mind is the amount of MEMORY that we have! our batches can't get too big!\n",
    "\n",
    "train_dataloader = DataLoader(train_dataset, batch_size=batch_size, shuffle=True)\n",
    "test_dataloader = DataLoader(test_dataset, batch_size=batch_size)"
   ]
  },
  {
   "cell_type": "markdown",
   "metadata": {
    "id": "giSyBftTwA6N"
   },
   "source": [
    "## Define our model architecture"
   ]
  },
  {
   "cell_type": "markdown",
   "metadata": {
    "id": "OkA00-MPyUuJ"
   },
   "source": [
    "### Positional Encoding"
   ]
  },
  {
   "cell_type": "code",
   "execution_count": 71,
   "metadata": {
    "id": "XRkJTYVoyIwT"
   },
   "outputs": [],
   "source": [
    "# positional encoding explanation\n",
    "# https://machinelearningmastery.com/a-gentle-introduction-to-positional-encoding-in-transformer-models-part-1/\n",
    "import math\n",
    "import torch\n",
    "import torch.nn as nn\n",
    "\n",
    "\n",
    "class PositionalEncoding(nn.Module):\n",
    "    def __init__(self, d_model: int, max_len: int = 5000):\n",
    "        super().__init__()\n",
    "        self.dropout = nn.Dropout(p=0.1)\n",
    "\n",
    "        position = torch.arange(max_len).unsqueeze(1)\n",
    "        div_term = torch.exp(\n",
    "            torch.arange(0, d_model, 2) * (-math.log(10000.0) / d_model)\n",
    "        )\n",
    "        pe = torch.zeros(max_len, 1, d_model)\n",
    "        pe[:, 0, 0::2] = torch.sin(position * div_term)\n",
    "        pe[:, 0, 1::2] = torch.cos(position * div_term)\n",
    "        self.register_buffer(\"pe\", pe)\n",
    "\n",
    "    def forward(self, x):\n",
    "        \"\"\"\n",
    "        Arguments:\n",
    "            x: Tensor, shape ``[seq_len, batch_size, embedding_dim]``\n",
    "        \"\"\"\n",
    "        x = x + self.pe[: x.size(0), None, :]\n",
    "        return self.dropout(x)\n",
    "\n",
    "\n",
    "# positional encoding is critical for the transformer model\n",
    "# d_model is the embedding dimension of the model\n",
    "# max_len here is our context window size"
   ]
  },
  {
   "cell_type": "code",
   "execution_count": 44,
   "metadata": {
    "id": "WuiV-F5vNZIx"
   },
   "outputs": [],
   "source": [
    "device = torch.device(\"cuda\" if torch.cuda.is_available() else \"cpu\")"
   ]
  },
  {
   "cell_type": "code",
   "execution_count": 45,
   "metadata": {
    "id": "OUcM42aowCOP"
   },
   "outputs": [],
   "source": [
    "import torch\n",
    "from torch import nn, Tensor\n",
    "from torch.nn import TransformerEncoder, TransformerEncoderLayer\n",
    "\n",
    "\n",
    "class GenomeR0ValueModel(nn.Module):\n",
    "    def __init__(self, ntoken: int, d_model: int, nhead: int, d_hid: int, nlayers: int):\n",
    "        super().__init__()\n",
    "        self.model_type = \"Transformer\"\n",
    "        self.pos_encoder = PositionalEncoding(d_model)\n",
    "        encoder_layers = TransformerEncoderLayer(d_model, nhead, d_hid)\n",
    "        self.transformer_encoder = TransformerEncoder(encoder_layers, nlayers)\n",
    "        self.embedding = nn.Embedding(ntoken, d_model)\n",
    "        self.d_model = d_model\n",
    "        self.linear = nn.Linear(d_model, 1)\n",
    "        self.init_weights()\n",
    "\n",
    "    def init_weights(self) -> None:\n",
    "        initrange = 0.1\n",
    "        self.embedding.weight.data.uniform_(-initrange, initrange)\n",
    "        self.linear.bias.data.zero_()\n",
    "        self.linear.weight.data.uniform_(-initrange, initrange)\n",
    "\n",
    "    def forward(self, src: Tensor, src_mask: Tensor = None) -> Tensor:\n",
    "        assert src.numel() > 0, \"src is empty\"\n",
    "\n",
    "        src = self.embedding(\n",
    "            src.to(torch.long)\n",
    "        )  # * math.sqrt(self.d_model) # this is weird and suspend disbelief until elias finds the discord link\n",
    "        src = self.pos_encoder(src.to(torch.long))\n",
    "        if src_mask is None:\n",
    "            src_mask = nn.Transformer.generate_square_subsequent_mask(len(src)).to(\n",
    "                device\n",
    "            )\n",
    "        src = src.view(src.size(0), -1, self.d_model)\n",
    "        output = self.transformer_encoder(src, src_mask)\n",
    "        output = self.linear(output)\n",
    "        # print(output.size())\n",
    "        assert output.numel() > 0, \"output is empty\"\n",
    "        return output[:, -1, :].view(-1, 1)\n",
    "\n",
    "\n",
    "# here, we define the model class, it is based on a transformer architecture\n",
    "# and it takes in a ntoken, which is the size of the vocabulary (number of unique characters in our input)\n",
    "# d_model, which is the embedding size of the tokens\n",
    "# nhead is the number of heads in our self-attention setup\n",
    "# d_hid is the dimension of the hidden layer\n",
    "# n_layers is the number of hidden layers"
   ]
  },
  {
   "cell_type": "markdown",
   "metadata": {
    "id": "xcYFOPUmk0Wb"
   },
   "source": [
    "## Create our train and test loop and begin trainin"
   ]
  },
  {
   "cell_type": "code",
   "execution_count": 46,
   "metadata": {
    "id": "vvPnkgyVNZIy"
   },
   "outputs": [
    {
     "name": "stderr",
     "output_type": "stream",
     "text": [
      "/Users/eliasxu/Documents/Projects/Transformer-Viruses/venv/lib/python3.12/site-packages/torch/nn/modules/transformer.py:306: UserWarning: enable_nested_tensor is True, but self.use_nested_tensor is False because encoder_layer.self_attn.batch_first was not True(use batch_first for better inference performance)\n",
      "  warnings.warn(f\"enable_nested_tensor is True, but self.use_nested_tensor is False because {why_not_sparsity_fast_path}\")\n"
     ]
    }
   ],
   "source": [
    "# initialize our model\n",
    "import torch.nn as nn\n",
    "\n",
    "model = GenomeR0ValueModel(\n",
    "    ntoken=len(vocabs), d_model=64, nhead=8, d_hid=256, nlayers=8\n",
    ")"
   ]
  },
  {
   "cell_type": "code",
   "execution_count": 53,
   "metadata": {
    "id": "XWe6c9dbNZIy"
   },
   "outputs": [],
   "source": [
    "import torch\n",
    "from tqdm import tqdm  # Progress bar (optional, but very helpful)\n",
    "\n",
    "\n",
    "def train_model(\n",
    "    model,\n",
    "    train_loader,\n",
    "    test_loader,\n",
    "    criterion,\n",
    "    optimizer,\n",
    "    num_epochs,\n",
    "    device=\"cuda\" if torch.cuda.is_available() else \"cpu\",\n",
    "):\n",
    "    # move the\n",
    "    model.to(device)\n",
    "    best_val_loss = float(\"inf\")\n",
    "    training_running_avg = []\n",
    "    loss = 0\n",
    "    max_running_avg_entries = 10\n",
    "    for epoch in range(num_epochs):\n",
    "        # Training Phase\n",
    "        model.train()\n",
    "        train_loss = 0.0\n",
    "        pbar = tqdm(train_loader, desc=f\"Epoch {epoch + 1}/{num_epochs}\")\n",
    "        for inputs, targets in pbar:\n",
    "            inputs, targets = inputs.to(device), targets.to(device)\n",
    "            outputs = model(inputs)\n",
    "            optimizer.zero_grad()\n",
    "            targets = targets.view(-1, 1)  # Ensure target shape matches output\n",
    "            loss = criterion(\n",
    "                outputs, targets.float()\n",
    "            )  # Ensure target shape matches output\n",
    "\n",
    "            loss.backward()\n",
    "            optimizer.step()\n",
    "\n",
    "            train_loss += loss.item()\n",
    "            training_running_avg.append(loss.item())\n",
    "            if len(training_running_avg) > max_running_avg_entries:\n",
    "                training_running_avg = training_running_avg[1:]\n",
    "\n",
    "            pbar.set_postfix({\"Train Loss\": loss.item()})\n",
    "\n",
    "        train_loss /= len(train_loader)\n",
    "\n",
    "        # Test Phase\n",
    "        model.eval()"
   ]
  },
  {
   "cell_type": "code",
   "execution_count": 54,
   "metadata": {
    "id": "a8-2g_t4NZI1"
   },
   "outputs": [],
   "source": [
    "criterion = torch.nn.MSELoss()\n",
    "optimizer = torch.optim.Adam(model.parameters(), lr=0.01, weight_decay=0.1)"
   ]
  },
  {
   "cell_type": "markdown",
   "metadata": {
    "id": "OuH9xs8yk2Wj"
   },
   "source": [
    "## Begin training"
   ]
  },
  {
   "cell_type": "code",
   "execution_count": null,
   "metadata": {
    "colab": {
     "base_uri": "https://localhost:8080/",
     "height": 523
    },
    "id": "ZDGeOmrJNZI2",
    "outputId": "cec0a522-bb59-4a02-9a7b-6c08ce484a8b"
   },
   "outputs": [],
   "source": [
    "# Train the model\n",
    "train_model(\n",
    "    model, train_dataloader, test_dataloader, criterion, optimizer, num_epochs=15\n",
    ")"
   ]
  },
  {
   "cell_type": "code",
   "execution_count": null,
   "metadata": {
    "id": "OeWNJk2Ps7Yz"
   },
   "outputs": [],
   "source": [
    "model.eval()"
   ]
  },
  {
   "cell_type": "code",
   "execution_count": null,
   "metadata": {
    "id": "a6-79WICtbI6"
   },
   "outputs": [],
   "source": [
    "import dill as pickle\n",
    "\n",
    "savedModel = \"../models/Genome_Transmissivity_model_dill.pkl\"\n",
    "with open(savedModel, \"wb\") as f:\n",
    "    pickle.dump(model, f)"
   ]
  }
 ],
 "metadata": {
  "accelerator": "GPU",
  "colab": {
   "gpuType": "A100",
   "machine_shape": "hm",
   "provenance": []
  },
  "kernelspec": {
   "display_name": "Python 3",
   "name": "python3"
  },
  "language_info": {
   "codemirror_mode": {
    "name": "ipython",
    "version": 3
   },
   "file_extension": ".py",
   "mimetype": "text/x-python",
   "name": "python",
   "nbconvert_exporter": "python",
   "pygments_lexer": "ipython3",
   "version": "3.12.4"
  }
 },
 "nbformat": 4,
 "nbformat_minor": 0
}
