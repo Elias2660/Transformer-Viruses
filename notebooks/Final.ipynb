{
 "cells": [
  {
   "cell_type": "markdown",
   "metadata": {},
   "source": [
    "#### RUN TO SETUP"
   ]
  },
  {
   "cell_type": "code",
   "execution_count": 1,
   "metadata": {},
   "outputs": [
    {
     "name": "stdout",
     "output_type": "stream",
     "text": [
      "Requirement already satisfied: appnope==0.1.4 in /Users/eliasxu/Documents/Projects/Transformer-Viruses/venv/lib/python3.9/site-packages (from -r ../requirements.txt (line 1)) (0.1.4)\n",
      "Requirement already satisfied: asttokens==2.4.1 in /Users/eliasxu/Documents/Projects/Transformer-Viruses/venv/lib/python3.9/site-packages (from -r ../requirements.txt (line 2)) (2.4.1)\n",
      "Requirement already satisfied: attrs==23.2.0 in /Users/eliasxu/Documents/Projects/Transformer-Viruses/venv/lib/python3.9/site-packages (from -r ../requirements.txt (line 3)) (23.2.0)\n",
      "Requirement already satisfied: beautifulsoup4==4.12.3 in /Users/eliasxu/Documents/Projects/Transformer-Viruses/venv/lib/python3.9/site-packages (from -r ../requirements.txt (line 4)) (4.12.3)\n",
      "Requirement already satisfied: black==24.4.2 in /Users/eliasxu/Documents/Projects/Transformer-Viruses/venv/lib/python3.9/site-packages (from -r ../requirements.txt (line 5)) (24.4.2)\n",
      "Requirement already satisfied: bleach==6.1.0 in /Users/eliasxu/Documents/Projects/Transformer-Viruses/venv/lib/python3.9/site-packages (from -r ../requirements.txt (line 6)) (6.1.0)\n",
      "Requirement already satisfied: build==1.2.1 in /Users/eliasxu/Documents/Projects/Transformer-Viruses/venv/lib/python3.9/site-packages (from -r ../requirements.txt (line 7)) (1.2.1)\n",
      "Requirement already satisfied: CacheControl==0.14.0 in /Users/eliasxu/Documents/Projects/Transformer-Viruses/venv/lib/python3.9/site-packages (from -r ../requirements.txt (line 8)) (0.14.0)\n",
      "Requirement already satisfied: certifi==2024.6.2 in /Users/eliasxu/Documents/Projects/Transformer-Viruses/venv/lib/python3.9/site-packages (from -r ../requirements.txt (line 9)) (2024.6.2)\n",
      "Requirement already satisfied: cffi==1.16.0 in /Users/eliasxu/Documents/Projects/Transformer-Viruses/venv/lib/python3.9/site-packages (from -r ../requirements.txt (line 10)) (1.16.0)\n",
      "Requirement already satisfied: cfgv==3.4.0 in /Users/eliasxu/Documents/Projects/Transformer-Viruses/venv/lib/python3.9/site-packages (from -r ../requirements.txt (line 11)) (3.4.0)\n",
      "Requirement already satisfied: charset-normalizer==3.3.2 in /Users/eliasxu/Documents/Projects/Transformer-Viruses/venv/lib/python3.9/site-packages (from -r ../requirements.txt (line 12)) (3.3.2)\n",
      "Requirement already satisfied: cleo==2.1.0 in /Users/eliasxu/Documents/Projects/Transformer-Viruses/venv/lib/python3.9/site-packages (from -r ../requirements.txt (line 13)) (2.1.0)\n",
      "Requirement already satisfied: click==8.1.7 in /Users/eliasxu/Documents/Projects/Transformer-Viruses/venv/lib/python3.9/site-packages (from -r ../requirements.txt (line 14)) (8.1.7)\n",
      "Requirement already satisfied: comm==0.2.2 in /Users/eliasxu/Documents/Projects/Transformer-Viruses/venv/lib/python3.9/site-packages (from -r ../requirements.txt (line 15)) (0.2.2)\n",
      "Requirement already satisfied: contourpy==1.2.1 in /Users/eliasxu/Documents/Projects/Transformer-Viruses/venv/lib/python3.9/site-packages (from -r ../requirements.txt (line 16)) (1.2.1)\n",
      "Requirement already satisfied: crashtest==0.4.1 in /Users/eliasxu/Documents/Projects/Transformer-Viruses/venv/lib/python3.9/site-packages (from -r ../requirements.txt (line 17)) (0.4.1)\n",
      "Requirement already satisfied: cycler==0.12.1 in /Users/eliasxu/Documents/Projects/Transformer-Viruses/venv/lib/python3.9/site-packages (from -r ../requirements.txt (line 18)) (0.12.1)\n",
      "Requirement already satisfied: debugpy==1.8.1 in /Users/eliasxu/Documents/Projects/Transformer-Viruses/venv/lib/python3.9/site-packages (from -r ../requirements.txt (line 19)) (1.8.1)\n",
      "Requirement already satisfied: decorator==5.1.1 in /Users/eliasxu/Documents/Projects/Transformer-Viruses/venv/lib/python3.9/site-packages (from -r ../requirements.txt (line 20)) (5.1.1)\n",
      "Requirement already satisfied: defusedxml==0.7.1 in /Users/eliasxu/Documents/Projects/Transformer-Viruses/venv/lib/python3.9/site-packages (from -r ../requirements.txt (line 21)) (0.7.1)\n",
      "Requirement already satisfied: distlib==0.3.8 in /Users/eliasxu/Documents/Projects/Transformer-Viruses/venv/lib/python3.9/site-packages (from -r ../requirements.txt (line 22)) (0.3.8)\n",
      "Requirement already satisfied: dulwich==0.21.7 in /Users/eliasxu/Documents/Projects/Transformer-Viruses/venv/lib/python3.9/site-packages (from -r ../requirements.txt (line 23)) (0.21.7)\n",
      "Requirement already satisfied: et-xmlfile==1.1.0 in /Users/eliasxu/Documents/Projects/Transformer-Viruses/venv/lib/python3.9/site-packages (from -r ../requirements.txt (line 24)) (1.1.0)\n",
      "Requirement already satisfied: exceptiongroup==1.2.1 in /Users/eliasxu/Documents/Projects/Transformer-Viruses/venv/lib/python3.9/site-packages (from -r ../requirements.txt (line 25)) (1.2.1)\n",
      "Requirement already satisfied: executing==2.0.1 in /Users/eliasxu/Documents/Projects/Transformer-Viruses/venv/lib/python3.9/site-packages (from -r ../requirements.txt (line 26)) (2.0.1)\n",
      "Requirement already satisfied: fastjsonschema==2.20.0 in /Users/eliasxu/Documents/Projects/Transformer-Viruses/venv/lib/python3.9/site-packages (from -r ../requirements.txt (line 27)) (2.20.0)\n",
      "Requirement already satisfied: filelock==3.14.0 in /Users/eliasxu/Documents/Projects/Transformer-Viruses/venv/lib/python3.9/site-packages (from -r ../requirements.txt (line 28)) (3.14.0)\n",
      "Requirement already satisfied: fonttools==4.53.0 in /Users/eliasxu/Documents/Projects/Transformer-Viruses/venv/lib/python3.9/site-packages (from -r ../requirements.txt (line 29)) (4.53.0)\n",
      "Requirement already satisfied: fsspec==2024.6.0 in /Users/eliasxu/Documents/Projects/Transformer-Viruses/venv/lib/python3.9/site-packages (from -r ../requirements.txt (line 30)) (2024.6.0)\n",
      "Requirement already satisfied: identify==2.5.36 in /Users/eliasxu/Documents/Projects/Transformer-Viruses/venv/lib/python3.9/site-packages (from -r ../requirements.txt (line 31)) (2.5.36)\n",
      "Requirement already satisfied: idna==3.7 in /Users/eliasxu/Documents/Projects/Transformer-Viruses/venv/lib/python3.9/site-packages (from -r ../requirements.txt (line 32)) (3.7)\n",
      "Requirement already satisfied: importlib_metadata==7.1.0 in /Users/eliasxu/Documents/Projects/Transformer-Viruses/venv/lib/python3.9/site-packages (from -r ../requirements.txt (line 33)) (7.1.0)\n",
      "Requirement already satisfied: importlib_resources==6.4.0 in /Users/eliasxu/Documents/Projects/Transformer-Viruses/venv/lib/python3.9/site-packages (from -r ../requirements.txt (line 34)) (6.4.0)\n",
      "Requirement already satisfied: installer==0.7.0 in /Users/eliasxu/Documents/Projects/Transformer-Viruses/venv/lib/python3.9/site-packages (from -r ../requirements.txt (line 35)) (0.7.0)\n",
      "Requirement already satisfied: ipykernel==6.29.4 in /Users/eliasxu/Documents/Projects/Transformer-Viruses/venv/lib/python3.9/site-packages (from -r ../requirements.txt (line 36)) (6.29.4)\n",
      "Requirement already satisfied: ipython==8.18.1 in /Users/eliasxu/Documents/Projects/Transformer-Viruses/venv/lib/python3.9/site-packages (from -r ../requirements.txt (line 37)) (8.18.1)\n",
      "Requirement already satisfied: isort==5.13.2 in /Users/eliasxu/Documents/Projects/Transformer-Viruses/venv/lib/python3.9/site-packages (from -r ../requirements.txt (line 38)) (5.13.2)\n",
      "Requirement already satisfied: jaraco.classes==3.4.0 in /Users/eliasxu/Documents/Projects/Transformer-Viruses/venv/lib/python3.9/site-packages (from -r ../requirements.txt (line 39)) (3.4.0)\n",
      "Requirement already satisfied: jedi==0.19.1 in /Users/eliasxu/Documents/Projects/Transformer-Viruses/venv/lib/python3.9/site-packages (from -r ../requirements.txt (line 40)) (0.19.1)\n",
      "Requirement already satisfied: Jinja2==3.1.4 in /Users/eliasxu/Documents/Projects/Transformer-Viruses/venv/lib/python3.9/site-packages (from -r ../requirements.txt (line 41)) (3.1.4)\n",
      "Requirement already satisfied: jsonschema==4.22.0 in /Users/eliasxu/Documents/Projects/Transformer-Viruses/venv/lib/python3.9/site-packages (from -r ../requirements.txt (line 42)) (4.22.0)\n",
      "Requirement already satisfied: jsonschema-specifications==2023.12.1 in /Users/eliasxu/Documents/Projects/Transformer-Viruses/venv/lib/python3.9/site-packages (from -r ../requirements.txt (line 43)) (2023.12.1)\n",
      "Requirement already satisfied: jupyter_client==8.6.2 in /Users/eliasxu/Documents/Projects/Transformer-Viruses/venv/lib/python3.9/site-packages (from -r ../requirements.txt (line 44)) (8.6.2)\n",
      "Requirement already satisfied: jupyter_core==5.7.2 in /Users/eliasxu/Documents/Projects/Transformer-Viruses/venv/lib/python3.9/site-packages (from -r ../requirements.txt (line 45)) (5.7.2)\n",
      "Requirement already satisfied: jupyterlab_pygments==0.3.0 in /Users/eliasxu/Documents/Projects/Transformer-Viruses/venv/lib/python3.9/site-packages (from -r ../requirements.txt (line 46)) (0.3.0)\n",
      "Requirement already satisfied: keyring==24.3.1 in /Users/eliasxu/Documents/Projects/Transformer-Viruses/venv/lib/python3.9/site-packages (from -r ../requirements.txt (line 47)) (24.3.1)\n",
      "Requirement already satisfied: kiwisolver==1.4.5 in /Users/eliasxu/Documents/Projects/Transformer-Viruses/venv/lib/python3.9/site-packages (from -r ../requirements.txt (line 48)) (1.4.5)\n",
      "Requirement already satisfied: MarkupSafe==2.1.5 in /Users/eliasxu/Documents/Projects/Transformer-Viruses/venv/lib/python3.9/site-packages (from -r ../requirements.txt (line 49)) (2.1.5)\n",
      "Requirement already satisfied: matplotlib==3.9.0 in /Users/eliasxu/Documents/Projects/Transformer-Viruses/venv/lib/python3.9/site-packages (from -r ../requirements.txt (line 50)) (3.9.0)\n",
      "Requirement already satisfied: matplotlib-inline==0.1.7 in /Users/eliasxu/Documents/Projects/Transformer-Viruses/venv/lib/python3.9/site-packages (from -r ../requirements.txt (line 51)) (0.1.7)\n",
      "Requirement already satisfied: mistune==3.0.2 in /Users/eliasxu/Documents/Projects/Transformer-Viruses/venv/lib/python3.9/site-packages (from -r ../requirements.txt (line 52)) (3.0.2)\n",
      "Requirement already satisfied: more-itertools==10.3.0 in /Users/eliasxu/Documents/Projects/Transformer-Viruses/venv/lib/python3.9/site-packages (from -r ../requirements.txt (line 53)) (10.3.0)\n",
      "Requirement already satisfied: mpmath==1.3.0 in /Users/eliasxu/Documents/Projects/Transformer-Viruses/venv/lib/python3.9/site-packages (from -r ../requirements.txt (line 54)) (1.3.0)\n",
      "Requirement already satisfied: msgpack==1.0.8 in /Users/eliasxu/Documents/Projects/Transformer-Viruses/venv/lib/python3.9/site-packages (from -r ../requirements.txt (line 55)) (1.0.8)\n",
      "Requirement already satisfied: mypy-extensions==1.0.0 in /Users/eliasxu/Documents/Projects/Transformer-Viruses/venv/lib/python3.9/site-packages (from -r ../requirements.txt (line 56)) (1.0.0)\n",
      "Requirement already satisfied: nbclient==0.10.0 in /Users/eliasxu/Documents/Projects/Transformer-Viruses/venv/lib/python3.9/site-packages (from -r ../requirements.txt (line 57)) (0.10.0)\n",
      "Requirement already satisfied: nbconvert==7.16.4 in /Users/eliasxu/Documents/Projects/Transformer-Viruses/venv/lib/python3.9/site-packages (from -r ../requirements.txt (line 58)) (7.16.4)\n",
      "Requirement already satisfied: nbformat==5.10.4 in /Users/eliasxu/Documents/Projects/Transformer-Viruses/venv/lib/python3.9/site-packages (from -r ../requirements.txt (line 59)) (5.10.4)\n",
      "Requirement already satisfied: nbstripout==0.7.1 in /Users/eliasxu/Documents/Projects/Transformer-Viruses/venv/lib/python3.9/site-packages (from -r ../requirements.txt (line 60)) (0.7.1)\n",
      "Requirement already satisfied: nest-asyncio==1.6.0 in /Users/eliasxu/Documents/Projects/Transformer-Viruses/venv/lib/python3.9/site-packages (from -r ../requirements.txt (line 61)) (1.6.0)\n",
      "Requirement already satisfied: networkx==3.2.1 in /Users/eliasxu/Documents/Projects/Transformer-Viruses/venv/lib/python3.9/site-packages (from -r ../requirements.txt (line 62)) (3.2.1)\n",
      "Requirement already satisfied: nodeenv==1.9.1 in /Users/eliasxu/Documents/Projects/Transformer-Viruses/venv/lib/python3.9/site-packages (from -r ../requirements.txt (line 63)) (1.9.1)\n",
      "Requirement already satisfied: numpy==1.26.4 in /Users/eliasxu/Documents/Projects/Transformer-Viruses/venv/lib/python3.9/site-packages (from -r ../requirements.txt (line 64)) (1.26.4)\n",
      "Requirement already satisfied: openpyxl==3.1.3 in /Users/eliasxu/Documents/Projects/Transformer-Viruses/venv/lib/python3.9/site-packages (from -r ../requirements.txt (line 65)) (3.1.3)\n",
      "Requirement already satisfied: packaging==24.1 in /Users/eliasxu/Documents/Projects/Transformer-Viruses/venv/lib/python3.9/site-packages (from -r ../requirements.txt (line 66)) (24.1)\n",
      "Requirement already satisfied: pandas==2.2.2 in /Users/eliasxu/Documents/Projects/Transformer-Viruses/venv/lib/python3.9/site-packages (from -r ../requirements.txt (line 67)) (2.2.2)\n",
      "Requirement already satisfied: pandocfilters==1.5.1 in /Users/eliasxu/Documents/Projects/Transformer-Viruses/venv/lib/python3.9/site-packages (from -r ../requirements.txt (line 68)) (1.5.1)\n",
      "Requirement already satisfied: parso==0.8.4 in /Users/eliasxu/Documents/Projects/Transformer-Viruses/venv/lib/python3.9/site-packages (from -r ../requirements.txt (line 69)) (0.8.4)\n",
      "Requirement already satisfied: pathspec==0.12.1 in /Users/eliasxu/Documents/Projects/Transformer-Viruses/venv/lib/python3.9/site-packages (from -r ../requirements.txt (line 70)) (0.12.1)\n",
      "Requirement already satisfied: pexpect==4.9.0 in /Users/eliasxu/Documents/Projects/Transformer-Viruses/venv/lib/python3.9/site-packages (from -r ../requirements.txt (line 71)) (4.9.0)\n",
      "Requirement already satisfied: pillow==10.3.0 in /Users/eliasxu/Documents/Projects/Transformer-Viruses/venv/lib/python3.9/site-packages (from -r ../requirements.txt (line 72)) (10.3.0)\n",
      "Requirement already satisfied: pkginfo==1.11.1 in /Users/eliasxu/Documents/Projects/Transformer-Viruses/venv/lib/python3.9/site-packages (from -r ../requirements.txt (line 73)) (1.11.1)\n",
      "Requirement already satisfied: platformdirs==4.2.2 in /Users/eliasxu/Documents/Projects/Transformer-Viruses/venv/lib/python3.9/site-packages (from -r ../requirements.txt (line 74)) (4.2.2)\n",
      "Requirement already satisfied: poetry==1.8.3 in /Users/eliasxu/Documents/Projects/Transformer-Viruses/venv/lib/python3.9/site-packages (from -r ../requirements.txt (line 75)) (1.8.3)\n",
      "Requirement already satisfied: poetry-core==1.9.0 in /Users/eliasxu/Documents/Projects/Transformer-Viruses/venv/lib/python3.9/site-packages (from -r ../requirements.txt (line 76)) (1.9.0)\n",
      "Requirement already satisfied: poetry-plugin-export==1.8.0 in /Users/eliasxu/Documents/Projects/Transformer-Viruses/venv/lib/python3.9/site-packages (from -r ../requirements.txt (line 77)) (1.8.0)\n",
      "Requirement already satisfied: pre-commit==3.7.1 in /Users/eliasxu/Documents/Projects/Transformer-Viruses/venv/lib/python3.9/site-packages (from -r ../requirements.txt (line 78)) (3.7.1)\n",
      "Requirement already satisfied: prompt_toolkit==3.0.47 in /Users/eliasxu/Documents/Projects/Transformer-Viruses/venv/lib/python3.9/site-packages (from -r ../requirements.txt (line 79)) (3.0.47)\n",
      "Requirement already satisfied: psutil==5.9.8 in /Users/eliasxu/Documents/Projects/Transformer-Viruses/venv/lib/python3.9/site-packages (from -r ../requirements.txt (line 80)) (5.9.8)\n",
      "Requirement already satisfied: ptyprocess==0.7.0 in /Users/eliasxu/Documents/Projects/Transformer-Viruses/venv/lib/python3.9/site-packages (from -r ../requirements.txt (line 81)) (0.7.0)\n",
      "Requirement already satisfied: pure-eval==0.2.2 in /Users/eliasxu/Documents/Projects/Transformer-Viruses/venv/lib/python3.9/site-packages (from -r ../requirements.txt (line 82)) (0.2.2)\n",
      "Requirement already satisfied: pycparser==2.22 in /Users/eliasxu/Documents/Projects/Transformer-Viruses/venv/lib/python3.9/site-packages (from -r ../requirements.txt (line 83)) (2.22)\n",
      "Requirement already satisfied: Pygments==2.18.0 in /Users/eliasxu/Documents/Projects/Transformer-Viruses/venv/lib/python3.9/site-packages (from -r ../requirements.txt (line 84)) (2.18.0)\n",
      "Requirement already satisfied: pyparsing==3.1.2 in /Users/eliasxu/Documents/Projects/Transformer-Viruses/venv/lib/python3.9/site-packages (from -r ../requirements.txt (line 85)) (3.1.2)\n",
      "Requirement already satisfied: pyproject_hooks==1.1.0 in /Users/eliasxu/Documents/Projects/Transformer-Viruses/venv/lib/python3.9/site-packages (from -r ../requirements.txt (line 86)) (1.1.0)\n",
      "Requirement already satisfied: python-dateutil==2.9.0.post0 in /Users/eliasxu/Documents/Projects/Transformer-Viruses/venv/lib/python3.9/site-packages (from -r ../requirements.txt (line 87)) (2.9.0.post0)\n",
      "Requirement already satisfied: pytz==2024.1 in /Users/eliasxu/Documents/Projects/Transformer-Viruses/venv/lib/python3.9/site-packages (from -r ../requirements.txt (line 88)) (2024.1)\n",
      "Requirement already satisfied: PyYAML==6.0.1 in /Users/eliasxu/Documents/Projects/Transformer-Viruses/venv/lib/python3.9/site-packages (from -r ../requirements.txt (line 89)) (6.0.1)\n",
      "Requirement already satisfied: pyzmq==26.0.3 in /Users/eliasxu/Documents/Projects/Transformer-Viruses/venv/lib/python3.9/site-packages (from -r ../requirements.txt (line 90)) (26.0.3)\n",
      "Requirement already satisfied: rapidfuzz==3.9.3 in /Users/eliasxu/Documents/Projects/Transformer-Viruses/venv/lib/python3.9/site-packages (from -r ../requirements.txt (line 91)) (3.9.3)\n",
      "Requirement already satisfied: referencing==0.35.1 in /Users/eliasxu/Documents/Projects/Transformer-Viruses/venv/lib/python3.9/site-packages (from -r ../requirements.txt (line 92)) (0.35.1)\n",
      "Requirement already satisfied: requests==2.32.3 in /Users/eliasxu/Documents/Projects/Transformer-Viruses/venv/lib/python3.9/site-packages (from -r ../requirements.txt (line 93)) (2.32.3)\n",
      "Requirement already satisfied: requests-toolbelt==1.0.0 in /Users/eliasxu/Documents/Projects/Transformer-Viruses/venv/lib/python3.9/site-packages (from -r ../requirements.txt (line 94)) (1.0.0)\n",
      "Requirement already satisfied: rpds-py==0.18.1 in /Users/eliasxu/Documents/Projects/Transformer-Viruses/venv/lib/python3.9/site-packages (from -r ../requirements.txt (line 95)) (0.18.1)\n",
      "Requirement already satisfied: shellingham==1.5.4 in /Users/eliasxu/Documents/Projects/Transformer-Viruses/venv/lib/python3.9/site-packages (from -r ../requirements.txt (line 96)) (1.5.4)\n",
      "Requirement already satisfied: six==1.16.0 in /Users/eliasxu/Documents/Projects/Transformer-Viruses/venv/lib/python3.9/site-packages (from -r ../requirements.txt (line 97)) (1.16.0)\n",
      "Requirement already satisfied: soupsieve==2.5 in /Users/eliasxu/Documents/Projects/Transformer-Viruses/venv/lib/python3.9/site-packages (from -r ../requirements.txt (line 98)) (2.5)\n",
      "Requirement already satisfied: stack-data==0.6.3 in /Users/eliasxu/Documents/Projects/Transformer-Viruses/venv/lib/python3.9/site-packages (from -r ../requirements.txt (line 99)) (0.6.3)\n",
      "Requirement already satisfied: sympy==1.12.1 in /Users/eliasxu/Documents/Projects/Transformer-Viruses/venv/lib/python3.9/site-packages (from -r ../requirements.txt (line 100)) (1.12.1)\n",
      "Requirement already satisfied: tinycss2==1.3.0 in /Users/eliasxu/Documents/Projects/Transformer-Viruses/venv/lib/python3.9/site-packages (from -r ../requirements.txt (line 101)) (1.3.0)\n",
      "Requirement already satisfied: tokenize-rt==5.2.0 in /Users/eliasxu/Documents/Projects/Transformer-Viruses/venv/lib/python3.9/site-packages (from -r ../requirements.txt (line 102)) (5.2.0)\n",
      "Requirement already satisfied: tomli==2.0.1 in /Users/eliasxu/Documents/Projects/Transformer-Viruses/venv/lib/python3.9/site-packages (from -r ../requirements.txt (line 103)) (2.0.1)\n",
      "Requirement already satisfied: tomlkit==0.12.5 in /Users/eliasxu/Documents/Projects/Transformer-Viruses/venv/lib/python3.9/site-packages (from -r ../requirements.txt (line 104)) (0.12.5)\n",
      "Requirement already satisfied: torch==2.3.1 in /Users/eliasxu/Documents/Projects/Transformer-Viruses/venv/lib/python3.9/site-packages (from -r ../requirements.txt (line 105)) (2.3.1)\n",
      "Requirement already satisfied: tornado==6.4.1 in /Users/eliasxu/Documents/Projects/Transformer-Viruses/venv/lib/python3.9/site-packages (from -r ../requirements.txt (line 106)) (6.4.1)\n",
      "Requirement already satisfied: tqdm==4.66.4 in /Users/eliasxu/Documents/Projects/Transformer-Viruses/venv/lib/python3.9/site-packages (from -r ../requirements.txt (line 107)) (4.66.4)\n",
      "Requirement already satisfied: traitlets==5.14.3 in /Users/eliasxu/Documents/Projects/Transformer-Viruses/venv/lib/python3.9/site-packages (from -r ../requirements.txt (line 108)) (5.14.3)\n",
      "Requirement already satisfied: trove-classifiers==2024.5.22 in /Users/eliasxu/Documents/Projects/Transformer-Viruses/venv/lib/python3.9/site-packages (from -r ../requirements.txt (line 109)) (2024.5.22)\n",
      "Requirement already satisfied: typing_extensions==4.12.2 in /Users/eliasxu/Documents/Projects/Transformer-Viruses/venv/lib/python3.9/site-packages (from -r ../requirements.txt (line 110)) (4.12.2)\n",
      "Requirement already satisfied: tzdata==2024.1 in /Users/eliasxu/Documents/Projects/Transformer-Viruses/venv/lib/python3.9/site-packages (from -r ../requirements.txt (line 111)) (2024.1)\n",
      "Requirement already satisfied: urllib3==2.2.1 in /Users/eliasxu/Documents/Projects/Transformer-Viruses/venv/lib/python3.9/site-packages (from -r ../requirements.txt (line 112)) (2.2.1)\n",
      "Requirement already satisfied: virtualenv==20.26.2 in /Users/eliasxu/Documents/Projects/Transformer-Viruses/venv/lib/python3.9/site-packages (from -r ../requirements.txt (line 113)) (20.26.2)\n",
      "Requirement already satisfied: wcwidth==0.2.13 in /Users/eliasxu/Documents/Projects/Transformer-Viruses/venv/lib/python3.9/site-packages (from -r ../requirements.txt (line 114)) (0.2.13)\n",
      "Requirement already satisfied: webencodings==0.5.1 in /Users/eliasxu/Documents/Projects/Transformer-Viruses/venv/lib/python3.9/site-packages (from -r ../requirements.txt (line 115)) (0.5.1)\n",
      "Requirement already satisfied: xattr==1.1.0 in /Users/eliasxu/Documents/Projects/Transformer-Viruses/venv/lib/python3.9/site-packages (from -r ../requirements.txt (line 116)) (1.1.0)\n",
      "Requirement already satisfied: zipp==3.19.2 in /Users/eliasxu/Documents/Projects/Transformer-Viruses/venv/lib/python3.9/site-packages (from -r ../requirements.txt (line 117)) (3.19.2)\n"
     ]
    }
   ],
   "source": [
    "# remember to create a venv first\n",
    "! pip install -r \"../requirements.txt\""
   ]
  },
  {
   "cell_type": "markdown",
   "metadata": {
    "id": "HAOhQ3gujshO"
   },
   "source": [
    "#### Mount Google Drive so that we can access the genomic sequence data"
   ]
  },
  {
   "cell_type": "code",
   "execution_count": 2,
   "metadata": {
    "id": "QR4wZ0Tfk7Tm"
   },
   "outputs": [],
   "source": [
    "import os\n",
    "\n",
    "# from google.colab import drive # for the google colab\n",
    "# drive.mount('/content/drive')\n",
    "\n",
    "# now with os.listdir(\"/content/drive/...\") we can get the list of files in any directory in our Google Drive"
   ]
  },
  {
   "cell_type": "markdown",
   "metadata": {
    "id": "QvDnny20kuZ7"
   },
   "source": [
    "#### Tokenize our sequences"
   ]
  },
  {
   "cell_type": "code",
   "execution_count": null,
   "metadata": {
    "id": "MK98N5Eom3Rt"
   },
   "outputs": [],
   "source": [
    "# define a vocabulary, this should be a mapping from all of the possible characters\n",
    "# that can appear in our sequence\n",
    "# we can either do this manually by defining a dictionary and writing {'A': 0, 'G': 1, 'T': 2, ...}\n",
    "# or you can use torchtext.vocab.build_vocab_from_iterator (this is probably easier)\n",
    "# define a vocabulary, this should be a mapping from all of the possible characters\n",
    "# that can appear in our sequence\n",
    "# we can either do this manually by defining a dictionary and writing {'A': 0, 'G': 1, 'T': 2, ...}\n",
    "# or you can use torchtext.vocab.build_vocab_from_iterator (this is probably easier)\n",
    "\n",
    "import torch\n",
    "import torchtext\n",
    "from collections import OrderedDict as od\n",
    "\n",
    "sample_sequence = viralData.iloc[0, 4]\n",
    "\n",
    "vocabs = od()\n",
    "vocabs[\"A\"] = 1\n",
    "vocabs[\"G\"] = 2\n",
    "vocabs[\"T\"] = 3\n",
    "vocabs[\"C\"] = 4\n",
    "vocabs[\"U\"] = 5\n",
    "#print(\"Vocab is: {}\".format(vocabs)) # sanity check that all of the possible values are reflected\n",
    "\n",
    "vocab = torchtext.vocab.vocab(vocabs)\n",
    "tokenizer = torchtext.data.utils.get_tokenizer(vocab)\n",
    "#print(tokenizer(list(sample_sequence)))\n",
    "\n",
    "\n",
    "# sample_sequence = list_of_genomic_filepaths[0]\n",
    "vocab = {\"A\": 0, \"T\": 1, \"C\": 2, \"G\": 3, \"U\": 4}  # write code here\n",
    "print(\n",
    "    \"Vocab is: {list_of_genomic_file_contents[0]}\".format(vocab)\n",
    ")  # sanity check that all of the possible values are reflected\n",
    "\n",
    "# now we builder our tokenizer\n",
    "tokenizer = torch.classes.torchtext.Tokenizer(vocab=vocab, split=\"character\")\n",
    "sample_tokens = tokenizer(sample_sequence)  # sanity check that it looks good"
   ]
  },
  {
   "cell_type": "markdown",
   "metadata": {
    "id": "IgIXlfAeyana"
   },
   "source": [
    "#### Install some necessary libraries"
   ]
  },
  {
   "cell_type": "code",
   "execution_count": null,
   "metadata": {
    "id": "LkLPZdZaycfq"
   },
   "outputs": [],
   "source": [
    "%pip install torch"
   ]
  },
  {
   "cell_type": "markdown",
   "metadata": {
    "id": "_MD2z6Zijw_a"
   },
   "source": [
    "#### Create our dataset"
   ]
  },
  {
   "cell_type": "code",
   "execution_count": null,
   "metadata": {
    "id": "8OmkRYuRn6rk"
   },
   "outputs": [],
   "source": [
    "import torch\n",
    "from torch.utils.data import Dataset\n",
    "\n",
    "# Pytorch defines a nice dataset class that only requires we implement two functions:\n",
    "# 1. __len__\n",
    "# 2. __getitem__\n",
    "# Our dataset is just the set of all samples that we want to train our model on\n",
    "# __len__ should get us the total number of samples\n",
    "# __getitem__ takes in an integer and should give us the corresponding element in the dataset\n",
    "\n",
    "# You might be wondering why they have those weird underscores? That enables us to\n",
    "# call those functions on the class instances directly\n",
    "#\n",
    "# For instance if we define an instance of our Dataset class, then we can get the length of it\n",
    "# by invoking `len` on it directly\n",
    "# new_dataset = GenomicR0ValueDataset(some_sample_sequences, some_sample_r0_values, new_tokenizer)\n",
    "# len(new_dataset) # this will call GenomicR0ValueDataset.__len__\n",
    "\n",
    "class GenomicR0ValueDataset(Dataset):\n",
    "  def __init__(self, sequences, r0_values, tokenizer):\n",
    "    # here we should initialize some class variables using `self.` so that\n",
    "    # we can access them further along\n",
    "    # make sure all of our sequences are tokenized so that when we return them in __getitem__\n",
    "    # we don't have to do any post-processing on them during training\n",
    "    ... \n",
    "    \n",
    "  def __len__(self):\n",
    "    # this needs to return the number of elements in our dataset\n",
    "    # so this should be the total number of sequences\n",
    "    pass\n",
    "\n",
    "  def __getitem__(self, index):\n",
    "    # get item should take in an index and return the corresponding genomic sequence\n",
    "    # AND its r0 value. we need to return both because every time we pass a sequence\n",
    "    # through our model, we need to compare its predicted r0 value to the correct r0\n",
    "    # value. so the format of this output should be returning two things like this:\n",
    "    # return _, _\n",
    "    pass"
   ]
  },
  {
   "cell_type": "markdown",
   "metadata": {
    "id": "RIY2CYd3kwP2"
   },
   "source": [
    "#### Create our dataloader"
   ]
  },
  {
   "cell_type": "code",
   "execution_count": null,
   "metadata": {
    "id": "fxqTVvWWkzwB"
   },
   "outputs": [],
   "source": [
    "import torch\n",
    "from torch.utils.data import random_split, DataLoader\n",
    "from torchvision import datasets, transforms\n",
    "from torch import nn, optim\n",
    "\n",
    "# pytorch dataloaders: https://pytorch.org/tutorials/beginner/basics/data_tutorial.html\n",
    "# dataloaders take in a pytorch.Dataset as an argument (like the one we defined above!)\n",
    "\n",
    "dataset = None  # lets instantiate that GenomicR0ValueDataset we defined above\n",
    "\n",
    "# define some train test split\n",
    "train_test_ratio = 0.9\n",
    "train_size = int(\n",
    "    train_test_ratio * len(dataset)\n",
    ")  # how convenient that we can called `len` on our dataset!!\n",
    "test_size = len(dataset) - train_size\n",
    "\n",
    "# now use random_split from torch.utils.data to define our two datasets\n",
    "train_dataset, test_dataset = None, None\n",
    "\n",
    "# define our batch_size\n",
    "batch_size = (\n",
    "    4  # batch size defines how many sequences our model will be processing at once\n",
    ")\n",
    "# higher batch sizes mean training will be faster, but will make updates slightly less precisely (will talk about this in person)\n",
    "# another thing to keep in mind is the amount of MEMORY that we have! our batches can't get too big!\n",
    "\n",
    "train_dataloader = DataLoader(train_dataset, batch_size=batch_size)\n",
    "test_dataloader = DataLoader(test_dataset, batch_size=batch_size)"
   ]
  },
  {
   "cell_type": "markdown",
   "metadata": {
    "id": "giSyBftTwA6N"
   },
   "source": [
    "#### Define our model architecture"
   ]
  },
  {
   "cell_type": "markdown",
   "metadata": {
    "id": "OkA00-MPyUuJ"
   },
   "source": [
    "##### Positional Encoding"
   ]
  },
  {
   "cell_type": "code",
   "execution_count": null,
   "metadata": {
    "id": "XRkJTYVoyIwT"
   },
   "outputs": [],
   "source": [
    "# positional encoding explanation\n",
    "# https://machinelearningmastery.com/a-gentle-introduction-to-positional-encoding-in-transformer-models-part-1/\n",
    "\n",
    "import torch\n",
    "import torch.nn as nn\n",
    "\n",
    "\n",
    "class PositionalEncoding(nn.Module):\n",
    "\n",
    "    def __init__(self, d_model: int, max_len: int = 5000):\n",
    "        super().__init__()\n",
    "        self.dropout = nn.Dropout(p=0.1)\n",
    "\n",
    "        position = torch.arange(max_len).unsqueeze(1)\n",
    "        div_term = torch.exp(\n",
    "            torch.arange(0, d_model, 2) * (-math.log(10000.0) / d_model)\n",
    "        )\n",
    "        pe = torch.zeros(max_len, 1, d_model)\n",
    "        pe[:, 0, 0::2] = torch.sin(position * div_term)\n",
    "        pe[:, 0, 1::2] = torch.cos(position * div_term)\n",
    "        self.register_buffer(\"pe\", pe)\n",
    "\n",
    "    def forward(self, x):\n",
    "        \"\"\"\n",
    "        Arguments:\n",
    "            x: Tensor, shape ``[seq_len, batch_size, embedding_dim]``\n",
    "        \"\"\"\n",
    "        x = x + self.pe[: x.size(0)]\n",
    "        return self.dropout(x)\n",
    "\n",
    "\n",
    "# positional encoding is critical for the transformer model\n",
    "# d_model is the embedding dimension of the model\n",
    "# max_len here is our context window size"
   ]
  },
  {
   "cell_type": "code",
   "execution_count": null,
   "metadata": {
    "id": "OUcM42aowCOP"
   },
   "outputs": [],
   "source": [
    "import math\n",
    "\n",
    "import torch\n",
    "from torch import nn, Tensor\n",
    "from torch.nn import TransformerEncoder, TransformerEncoderLayer\n",
    "\n",
    "\n",
    "class GenomeR0ValueModel(nn.Module):\n",
    "    def __init__(self, ntoken: int, d_model: int, nhead: int, d_hid: int, nlayers: int):\n",
    "        super().__init__()\n",
    "        self.model_type = \"Transformer\"\n",
    "        self.pos_encoder = PositionalEncoding(d_model)\n",
    "        encoder_layers = TransformerEncoderLayer(d_model, nhead, d_hid)\n",
    "        self.transformer_encoder = TransformerEncoder(encoder_layers, nlayers)\n",
    "        self.embedding = nn.Embedding(ntoken, d_model)\n",
    "        self.d_model = d_model\n",
    "        self.linear = nn.Linear(d_model, ntoken)\n",
    "\n",
    "        self.init_weights()\n",
    "\n",
    "    def init_weights(self) -> None:\n",
    "        initrange = 0.1\n",
    "        self.embedding.weight.data.uniform_(-initrange, initrange)\n",
    "        self.linear.bias.data.zero_()\n",
    "        self.linear.weight.data.uniform_(-initrange, initrange)\n",
    "\n",
    "    def forward(self, src: Tensor, src_mask: Tensor = None) -> Tensor:\n",
    "        \"\"\"\n",
    "        Arguments:\n",
    "            src: Tensor, shape ``[seq_len, batch_size]``\n",
    "            src_mask: Tensor, shape ``[seq_len, seq_len]``\n",
    "\n",
    "        Returns:\n",
    "            output Tensor of shape ``[seq_len, batch_size, ntoken]``\n",
    "        \"\"\"\n",
    "        src = self.embedding(src) * math.sqrt(self.d_model)\n",
    "        src = self.pos_encoder(src)\n",
    "        if src_mask is None:\n",
    "            \"\"\"Generate a square causal mask for the sequence. The masked positions are filled with float('-inf').\n",
    "            Unmasked positions are filled with float(0.0).\n",
    "            \"\"\"\n",
    "            src_mask = nn.Transformer.generate_square_subsequent_mask(len(src)).to(\n",
    "                device\n",
    "            )\n",
    "        output = self.transformer_encoder(src, src_mask)\n",
    "        output = self.linear(output)\n",
    "        return output\n",
    "\n",
    "\n",
    "# here, we define the model class, it is based on a transformer architecture\n",
    "# and it takes in a ntoken, which is the size of the vocabulary (number of unique characters in our input)\n",
    "# d_model, which is the embedding size of the tokens\n",
    "# nhead is the number of heads in our self-attention setup\n",
    "# d_hid is the dimension of the hidden layer\n",
    "# n_layers is the number of hidden layers"
   ]
  },
  {
   "cell_type": "markdown",
   "metadata": {
    "id": "xcYFOPUmk0Wb"
   },
   "source": [
    "#### Create our train and test loop and begin trainin"
   ]
  },
  {
   "cell_type": "code",
   "execution_count": null,
   "metadata": {
    "id": "HIHPyJhFk1to"
   },
   "outputs": [],
   "source": [
    "# initialize our model\n",
    "import torch\n",
    "import torch.nn as nn\n",
    "\n",
    "model = None\n",
    "\n",
    "import torch\n",
    "from torch.utils.data import DataLoader\n",
    "from tqdm import tqdm  # Progress bar (optional, but very helpful)\n",
    "\n",
    "def train_model(model, train_loader, test_loader, criterion, optimizer, num_epochs, device=\"cuda\" if torch.cuda.is_available() else \"cpu\"):\n",
    "  # move the\n",
    "  model.to(device)\n",
    "  best_val_loss = float(\"inf\")\n",
    "  for epoch in range(num_epochs):\n",
    "    # Training Phase\n",
    "    model.train()\n",
    "    train_loss = 0.0\n",
    "    pbar = tqdm(train_loader, desc=f\"Epoch {epoch + 1}/{num_epochs}\")\n",
    "    for inputs, targets in pbar:\n",
    "      inputs, targets = inputs.to(device), targets.to(device)\n",
    "\n",
    "      optimizer.zero_grad()\n",
    "      outputs = model(inputs)\n",
    "      loss = criterion(outputs, targets.unsqueeze(1))  # Ensure target shape matches output\n",
    "      loss.backward()\n",
    "      optimizer.step()\n",
    "\n",
    "      train_loss += loss.item()\n",
    "      pbar.set_postfix({\"Train Loss\": loss.item()})\n",
    "\n",
    "    train_loss /= len(train_loader)\n",
    "\n",
    "    # Test Phase\n",
    "    model.eval()\n",
    "    val_loss = 0.0\n",
    "    with torch.no_grad():\n",
    "      for inputs, targets in val_loader:\n",
    "        inputs, targets = inputs.to(device), targets.to(device)\n",
    "        outputs = model(inputs)\n",
    "        loss = criterion(outputs, targets.unsqueeze(1))\n",
    "        val_loss += loss.item()\n",
    "      val_loss /= len(val_loader)\n",
    "\n",
    "      print(f\"Epoch {epoch + 1}/{num_epochs}, Train Loss: {train_loss:.4f}, Val Loss: {val_loss:.4f}\")\n",
    "\n",
    "      # Save the best model\n",
    "      if val_loss < best_val_loss:\n",
    "          best_val_loss = val_loss\n",
    "          torch.save(model.state_dict(), \"best_model.pth\")\n",
    "\n",
    "\n",
    "# Example usage\n",
    "train_loader = DataLoader(...)  # Your training dataloader (we defined these above)\n",
    "val_loader = DataLoader(...)   # Your validation dataloader\n",
    "\n",
    "criterion = torch.nn.MSELoss()\n",
    "optimizer = torch.optim.Adam(learning_rate=0.1)\n",
    "\n",
    "# Train the model\n",
    "train_model(model, train_loader, val_loader, criterion, optimizer, num_epochs=10)\n",
    "\n",
    "\n",
    "\n"
   ]
  },
  {
   "cell_type": "markdown",
   "metadata": {
    "id": "OuH9xs8yk2Wj"
   },
   "source": [
    "#### Begin training"
   ]
  },
  {
   "cell_type": "code",
   "execution_count": null,
   "metadata": {
    "id": "3AzqFvx5k6hK"
   },
   "outputs": [],
   "source": []
  }
 ],
 "metadata": {
  "colab": {
   "last_runtime": {
    "build_target": "//research/colab/notebook:notebook_backend_py3",
    "kind": "shared"
   },
   "provenance": []
  },
  "kernelspec": {
   "display_name": "Python 3",
   "name": "python3"
  },
  "language_info": {
   "codemirror_mode": {
    "name": "ipython",
    "version": 3
   },
   "file_extension": ".py",
   "mimetype": "text/x-python",
   "name": "python",
   "nbconvert_exporter": "python",
   "pygments_lexer": "ipython3",
   "version": "3.9.19"
  }
 },
 "nbformat": 4,
 "nbformat_minor": 0
}
