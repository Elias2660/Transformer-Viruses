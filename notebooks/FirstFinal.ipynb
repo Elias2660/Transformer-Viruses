{
 "cells": [
  {
   "cell_type": "markdown",
   "metadata": {
    "id": "HAOhQ3gujshO"
   },
   "source": [
    "## Mount Google Drive so that we can access the genomic sequence data"
   ]
  },
  {
   "cell_type": "code",
   "execution_count": 44,
   "metadata": {
    "id": "QR4wZ0Tfk7Tm"
   },
   "outputs": [],
   "source": [
    "import os\n",
    "\n",
    "# from google.colab import drive # for the google colab\n",
    "# drive.mount('/content/drive')\n",
    "\n",
    "# now with os.listdir(\"/content/drive/...\") we can get the list of files in any directory in our Google Drive"
   ]
  },
  {
   "cell_type": "markdown",
   "metadata": {
    "id": "oF9D1qnyjR8V"
   },
   "source": [
    "## Load our dataset into memory"
   ]
  },
  {
   "cell_type": "code",
   "execution_count": 45,
   "metadata": {},
   "outputs": [],
   "source": [
    "import pandas as pd\n",
    "\n",
    "virus_data = pd.read_excel(\"data/Woolhouse_and_Brierley_RNA_virus_database.xlsx\")"
   ]
  },
  {
   "cell_type": "code",
   "execution_count": 46,
   "metadata": {},
   "outputs": [
    {
     "data": {
      "text/html": [
       "<div>\n",
       "<style scoped>\n",
       "    .dataframe tbody tr th:only-of-type {\n",
       "        vertical-align: middle;\n",
       "    }\n",
       "\n",
       "    .dataframe tbody tr th {\n",
       "        vertical-align: top;\n",
       "    }\n",
       "\n",
       "    .dataframe thead th {\n",
       "        text-align: right;\n",
       "    }\n",
       "</style>\n",
       "<table border=\"1\" class=\"dataframe\">\n",
       "  <thead>\n",
       "    <tr style=\"text-align: right;\">\n",
       "      <th></th>\n",
       "      <th>Species</th>\n",
       "      <th>Genus</th>\n",
       "      <th>Family</th>\n",
       "      <th>Envelope</th>\n",
       "      <th>Genome</th>\n",
       "      <th>ICTV history URL</th>\n",
       "      <th>Discovery year</th>\n",
       "      <th>Reference (discovery)</th>\n",
       "      <th>Serological detection only</th>\n",
       "      <th>Vector</th>\n",
       "      <th>...</th>\n",
       "      <th>Person-to-person</th>\n",
       "      <th>Host range</th>\n",
       "      <th>Human only</th>\n",
       "      <th>Non-human primate</th>\n",
       "      <th>Other mammals</th>\n",
       "      <th>Birds</th>\n",
       "      <th>Reptiles</th>\n",
       "      <th>Fish</th>\n",
       "      <th>Reference (Host range)</th>\n",
       "      <th>Ref2 (HR)</th>\n",
       "    </tr>\n",
       "  </thead>\n",
       "  <tbody>\n",
       "    <tr>\n",
       "      <th>0</th>\n",
       "      <td>Chapare mammarenavirus</td>\n",
       "      <td>Mammarenavirus</td>\n",
       "      <td>Arenaviridae</td>\n",
       "      <td>1</td>\n",
       "      <td>(-)ssRNA</td>\n",
       "      <td>20161875</td>\n",
       "      <td>2008</td>\n",
       "      <td>18421377</td>\n",
       "      <td>N</td>\n",
       "      <td>0</td>\n",
       "      <td>...</td>\n",
       "      <td>0</td>\n",
       "      <td>broad</td>\n",
       "      <td>0</td>\n",
       "      <td>0</td>\n",
       "      <td>1</td>\n",
       "      <td>0</td>\n",
       "      <td>0</td>\n",
       "      <td>0</td>\n",
       "      <td>18421377</td>\n",
       "      <td>NaN</td>\n",
       "    </tr>\n",
       "    <tr>\n",
       "      <th>1</th>\n",
       "      <td>Guanarito mammarenavirus</td>\n",
       "      <td>Mammarenavirus</td>\n",
       "      <td>Arenaviridae</td>\n",
       "      <td>1</td>\n",
       "      <td>(-)ssRNA</td>\n",
       "      <td>20161879</td>\n",
       "      <td>1991</td>\n",
       "      <td>1681354</td>\n",
       "      <td>N</td>\n",
       "      <td>0</td>\n",
       "      <td>...</td>\n",
       "      <td>1</td>\n",
       "      <td>broad</td>\n",
       "      <td>0</td>\n",
       "      <td>0</td>\n",
       "      <td>1</td>\n",
       "      <td>0</td>\n",
       "      <td>0</td>\n",
       "      <td>0</td>\n",
       "      <td>10463688</td>\n",
       "      <td>NaN</td>\n",
       "    </tr>\n",
       "    <tr>\n",
       "      <th>2</th>\n",
       "      <td>Junín mammarenavirus</td>\n",
       "      <td>Mammarenavirus</td>\n",
       "      <td>Arenaviridae</td>\n",
       "      <td>1</td>\n",
       "      <td>(-)ssRNA</td>\n",
       "      <td>20161881</td>\n",
       "      <td>1958</td>\n",
       "      <td>13586110</td>\n",
       "      <td>N</td>\n",
       "      <td>0</td>\n",
       "      <td>...</td>\n",
       "      <td>1</td>\n",
       "      <td>broad</td>\n",
       "      <td>0</td>\n",
       "      <td>0</td>\n",
       "      <td>1</td>\n",
       "      <td>0</td>\n",
       "      <td>0</td>\n",
       "      <td>0</td>\n",
       "      <td>23202466</td>\n",
       "      <td>24901990.0</td>\n",
       "    </tr>\n",
       "    <tr>\n",
       "      <th>3</th>\n",
       "      <td>Lassa mammarenavirus</td>\n",
       "      <td>Mammarenavirus</td>\n",
       "      <td>Arenaviridae</td>\n",
       "      <td>1</td>\n",
       "      <td>(-)ssRNA</td>\n",
       "      <td>20161882</td>\n",
       "      <td>1970</td>\n",
       "      <td>4987547</td>\n",
       "      <td>N</td>\n",
       "      <td>0</td>\n",
       "      <td>...</td>\n",
       "      <td>1</td>\n",
       "      <td>broad</td>\n",
       "      <td>0</td>\n",
       "      <td>0</td>\n",
       "      <td>1</td>\n",
       "      <td>0</td>\n",
       "      <td>0</td>\n",
       "      <td>0</td>\n",
       "      <td>17326956</td>\n",
       "      <td>15487592.0</td>\n",
       "    </tr>\n",
       "    <tr>\n",
       "      <th>4</th>\n",
       "      <td>Lujo mammarenavirus</td>\n",
       "      <td>Mammarenavirus</td>\n",
       "      <td>Arenaviridae</td>\n",
       "      <td>1</td>\n",
       "      <td>(-)ssRNA</td>\n",
       "      <td>20161884</td>\n",
       "      <td>2009</td>\n",
       "      <td>19478873</td>\n",
       "      <td>N</td>\n",
       "      <td>0</td>\n",
       "      <td>...</td>\n",
       "      <td>1</td>\n",
       "      <td>broad</td>\n",
       "      <td>0</td>\n",
       "      <td>0</td>\n",
       "      <td>1</td>\n",
       "      <td>0</td>\n",
       "      <td>0</td>\n",
       "      <td>0</td>\n",
       "      <td>22953019</td>\n",
       "      <td>NaN</td>\n",
       "    </tr>\n",
       "  </tbody>\n",
       "</table>\n",
       "<p>5 rows × 31 columns</p>\n",
       "</div>"
      ],
      "text/plain": [
       "                    Species           Genus        Family  Envelope    Genome  \\\n",
       "0    Chapare mammarenavirus  Mammarenavirus  Arenaviridae         1  (-)ssRNA   \n",
       "1  Guanarito mammarenavirus  Mammarenavirus  Arenaviridae         1  (-)ssRNA   \n",
       "2      Junín mammarenavirus  Mammarenavirus  Arenaviridae         1  (-)ssRNA   \n",
       "3      Lassa mammarenavirus  Mammarenavirus  Arenaviridae         1  (-)ssRNA   \n",
       "4       Lujo mammarenavirus  Mammarenavirus  Arenaviridae         1  (-)ssRNA   \n",
       "\n",
       "   ICTV history URL  Discovery year Reference (discovery)  \\\n",
       "0          20161875            2008              18421377   \n",
       "1          20161879            1991               1681354   \n",
       "2          20161881            1958              13586110   \n",
       "3          20161882            1970               4987547   \n",
       "4          20161884            2009              19478873   \n",
       "\n",
       "  Serological detection only Vector  ... Person-to-person Host range  \\\n",
       "0                          N      0  ...                0      broad   \n",
       "1                          N      0  ...                1      broad   \n",
       "2                          N      0  ...                1      broad   \n",
       "3                          N      0  ...                1      broad   \n",
       "4                          N      0  ...                1      broad   \n",
       "\n",
       "  Human only Non-human primate Other mammals Birds Reptiles Fish  \\\n",
       "0          0                 0             1     0        0    0   \n",
       "1          0                 0             1     0        0    0   \n",
       "2          0                 0             1     0        0    0   \n",
       "3          0                 0             1     0        0    0   \n",
       "4          0                 0             1     0        0    0   \n",
       "\n",
       "   Reference (Host range)   Ref2 (HR)  \n",
       "0                18421377         NaN  \n",
       "1                10463688         NaN  \n",
       "2                23202466  24901990.0  \n",
       "3                17326956  15487592.0  \n",
       "4                22953019         NaN  \n",
       "\n",
       "[5 rows x 31 columns]"
      ]
     },
     "execution_count": 46,
     "metadata": {},
     "output_type": "execute_result"
    }
   ],
   "source": [
    "virus_data.head()"
   ]
  },
  {
   "cell_type": "code",
   "execution_count": 47,
   "metadata": {},
   "outputs": [],
   "source": [
    "genome_data = pd.DataFrame(\n",
    "    columns=[\"Locus\", \"Position/Length Indicator?\", \"Virus Name\", \"Genome\"]\n",
    ")"
   ]
  },
  {
   "cell_type": "code",
   "execution_count": 48,
   "metadata": {},
   "outputs": [
    {
     "name": "stdout",
     "output_type": "stream",
     "text": [
      "3240\n"
     ]
    }
   ],
   "source": [
    "index = 0\n",
    "stor = []\n",
    "with open(\"data/humanVirusSeq.fa\") as d:\n",
    "    lines = d.readlines()\n",
    "    print(len(lines))\n",
    "    for line in lines:\n",
    "        if index % 2 == 0:\n",
    "            stor = line.strip().replace(\"\\n\", \"\").replace(\">\", \"\").split(\"|\")\n",
    "            index += 1\n",
    "        else:\n",
    "            genome_data.loc[len(genome_data.index)] = [\n",
    "                stor[0],\n",
    "                stor[1],\n",
    "                stor[2],\n",
    "                line.strip(),\n",
    "            ]\n",
    "            index += 1"
   ]
  },
  {
   "cell_type": "code",
   "execution_count": 49,
   "metadata": {},
   "outputs": [
    {
     "data": {
      "text/html": [
       "<div>\n",
       "<style scoped>\n",
       "    .dataframe tbody tr th:only-of-type {\n",
       "        vertical-align: middle;\n",
       "    }\n",
       "\n",
       "    .dataframe tbody tr th {\n",
       "        vertical-align: top;\n",
       "    }\n",
       "\n",
       "    .dataframe thead th {\n",
       "        text-align: right;\n",
       "    }\n",
       "</style>\n",
       "<table border=\"1\" class=\"dataframe\">\n",
       "  <thead>\n",
       "    <tr style=\"text-align: right;\">\n",
       "      <th></th>\n",
       "      <th>Locus</th>\n",
       "      <th>Position/Length Indicator?</th>\n",
       "      <th>Virus Name</th>\n",
       "      <th>Genome</th>\n",
       "    </tr>\n",
       "  </thead>\n",
       "  <tbody>\n",
       "    <tr>\n",
       "      <th>0</th>\n",
       "      <td>NC_021221</td>\n",
       "      <td>190062</td>\n",
       "      <td>Fowl aviadenovirus B</td>\n",
       "      <td>CATCATCAATATATACCGCATAAAAATGCACAGTTATGTGAACGGC...</td>\n",
       "    </tr>\n",
       "    <tr>\n",
       "      <th>1</th>\n",
       "      <td>NC_043451</td>\n",
       "      <td>2748958</td>\n",
       "      <td>Dabie bandavirus</td>\n",
       "      <td>ATGATGAAAGTCATCTGGTTCTCCTCTCTGATCTGCTTAGTCATTC...</td>\n",
       "    </tr>\n",
       "    <tr>\n",
       "      <th>2</th>\n",
       "      <td>NC_043452</td>\n",
       "      <td>2748958</td>\n",
       "      <td>Dabie bandavirus</td>\n",
       "      <td>ATGTCGCTGAGCAAATGCTCCAACGTTGACCTCAAATCTGTAGCAA...</td>\n",
       "    </tr>\n",
       "    <tr>\n",
       "      <th>3</th>\n",
       "      <td>NC_043450</td>\n",
       "      <td>2748958</td>\n",
       "      <td>Dabie bandavirus</td>\n",
       "      <td>ATGAACTTGGAAGTGCTTTGTGGTAGGATAAACGTGGAGAATGGGC...</td>\n",
       "    </tr>\n",
       "    <tr>\n",
       "      <th>4</th>\n",
       "      <td>NC_031287</td>\n",
       "      <td>2560764</td>\n",
       "      <td>Shrimp wenrivirus</td>\n",
       "      <td>CAAGTAAACTCAATTTTAACATTTGTGAAAATGGAAAATTGGTTGA...</td>\n",
       "    </tr>\n",
       "    <tr>\n",
       "      <th>...</th>\n",
       "      <td>...</td>\n",
       "      <td>...</td>\n",
       "      <td>...</td>\n",
       "      <td>...</td>\n",
       "    </tr>\n",
       "    <tr>\n",
       "      <th>1615</th>\n",
       "      <td>EU699971</td>\n",
       "      <td>537530</td>\n",
       "      <td>Human rhinovirus NH287</td>\n",
       "      <td>TTATCCGCAAGGTGCCTACGAGAAGCCTAGTAATGCTCAAGATGTA...</td>\n",
       "    </tr>\n",
       "    <tr>\n",
       "      <th>1616</th>\n",
       "      <td>EU699995</td>\n",
       "      <td>537546</td>\n",
       "      <td>Human rhinovirus NH3500</td>\n",
       "      <td>TTATCCGCAAAGTGCCTACGCAAAGCTTAGTAACACTTTGAAGAAT...</td>\n",
       "    </tr>\n",
       "    <tr>\n",
       "      <th>1617</th>\n",
       "      <td>EU699970</td>\n",
       "      <td>537529</td>\n",
       "      <td>Human rhinovirus NH281</td>\n",
       "      <td>TTATCCGCAAGGTGCCTACGAGAAGCCTAGTAATGCTCAAGATGTA...</td>\n",
       "    </tr>\n",
       "    <tr>\n",
       "      <th>1618</th>\n",
       "      <td>EU699991</td>\n",
       "      <td>537540</td>\n",
       "      <td>Human rhinovirus NH3308</td>\n",
       "      <td>TTATCCGCAAAGTGCCTACGCAAAGCTTAGTAACACTTTGAAGAAT...</td>\n",
       "    </tr>\n",
       "    <tr>\n",
       "      <th>1619</th>\n",
       "      <td>MK674280</td>\n",
       "      <td>2714899</td>\n",
       "      <td>Human respiratory circovirus-like 2</td>\n",
       "      <td>ATGGCTCACATCCGTTTAGACCAAAAAACAATATTTGCTACATACC...</td>\n",
       "    </tr>\n",
       "  </tbody>\n",
       "</table>\n",
       "<p>1620 rows × 4 columns</p>\n",
       "</div>"
      ],
      "text/plain": [
       "          Locus Position/Length Indicator?  \\\n",
       "0     NC_021221                     190062   \n",
       "1     NC_043451                    2748958   \n",
       "2     NC_043452                    2748958   \n",
       "3     NC_043450                    2748958   \n",
       "4     NC_031287                    2560764   \n",
       "...         ...                        ...   \n",
       "1615   EU699971                     537530   \n",
       "1616   EU699995                     537546   \n",
       "1617   EU699970                     537529   \n",
       "1618   EU699991                     537540   \n",
       "1619   MK674280                    2714899   \n",
       "\n",
       "                               Virus Name  \\\n",
       "0                    Fowl aviadenovirus B   \n",
       "1                        Dabie bandavirus   \n",
       "2                        Dabie bandavirus   \n",
       "3                        Dabie bandavirus   \n",
       "4                       Shrimp wenrivirus   \n",
       "...                                   ...   \n",
       "1615               Human rhinovirus NH287   \n",
       "1616              Human rhinovirus NH3500   \n",
       "1617               Human rhinovirus NH281   \n",
       "1618              Human rhinovirus NH3308   \n",
       "1619  Human respiratory circovirus-like 2   \n",
       "\n",
       "                                                 Genome  \n",
       "0     CATCATCAATATATACCGCATAAAAATGCACAGTTATGTGAACGGC...  \n",
       "1     ATGATGAAAGTCATCTGGTTCTCCTCTCTGATCTGCTTAGTCATTC...  \n",
       "2     ATGTCGCTGAGCAAATGCTCCAACGTTGACCTCAAATCTGTAGCAA...  \n",
       "3     ATGAACTTGGAAGTGCTTTGTGGTAGGATAAACGTGGAGAATGGGC...  \n",
       "4     CAAGTAAACTCAATTTTAACATTTGTGAAAATGGAAAATTGGTTGA...  \n",
       "...                                                 ...  \n",
       "1615  TTATCCGCAAGGTGCCTACGAGAAGCCTAGTAATGCTCAAGATGTA...  \n",
       "1616  TTATCCGCAAAGTGCCTACGCAAAGCTTAGTAACACTTTGAAGAAT...  \n",
       "1617  TTATCCGCAAGGTGCCTACGAGAAGCCTAGTAATGCTCAAGATGTA...  \n",
       "1618  TTATCCGCAAAGTGCCTACGCAAAGCTTAGTAACACTTTGAAGAAT...  \n",
       "1619  ATGGCTCACATCCGTTTAGACCAAAAAACAATATTTGCTACATACC...  \n",
       "\n",
       "[1620 rows x 4 columns]"
      ]
     },
     "execution_count": 49,
     "metadata": {},
     "output_type": "execute_result"
    }
   ],
   "source": [
    "genome_data"
   ]
  },
  {
   "cell_type": "code",
   "execution_count": 28,
   "metadata": {},
   "outputs": [
    {
     "data": {
      "text/plain": [
       "45781"
      ]
     },
     "execution_count": 28,
     "metadata": {},
     "output_type": "execute_result"
    }
   ],
   "source": [
    "len(genome_data.iloc[0][\"Genome\"].strip())"
   ]
  },
  {
   "cell_type": "code",
   "execution_count": null,
   "metadata": {
    "id": "ReWhtSbWjMAl"
   },
   "outputs": [],
   "source": [
    "# assuming that we have a CSV with rows like this:\n",
    "# genomic_data_filepath.txt, R0_value\n",
    "import csv\n",
    "\n",
    "list_of_genomic_filepaths = []\n",
    "list_of_genomic_sequences = []\n",
    "list_of_r0_values = []\n",
    "\n",
    "with open('{CSV FILE HERE}', 'r') as csv_file:\n",
    "  csvreader = csv.reader(csv_file)\n",
    "  for row in csvreader:\n",
    "    # add the filepaths to list_of_genomic_filepaths\n",
    "    # add the strings of our genomic file sequences to the list_of_genomic_sequences\n",
    "    # add the r0 values to list_of_r0_values"
   ]
  },
  {
   "cell_type": "markdown",
   "metadata": {
    "id": "QvDnny20kuZ7"
   },
   "source": [
    "## Tokenize our sequences"
   ]
  },
  {
   "cell_type": "code",
   "execution_count": null,
   "metadata": {
    "id": "MK98N5Eom3Rt"
   },
   "outputs": [],
   "source": [
    "# define a vocabulary, this should be a mapping from all of the possible characters\n",
    "# that can appear in our sequence\n",
    "# we can either do this manually by defining a dictionary and writing {'A': 0, 'G': 1, 'T': 2, ...}\n",
    "# or you can use torchtext.vocab.build_vocab_from_iterator (this is probably easier)\n",
    "\n",
    "sample_sequence = list_of_genomic_file_contents[0]\n",
    "vocab = None  # write code here\n",
    "print(\n",
    "    \"Vocab is: {}\".format(vocab)\n",
    ")  # sanity check that all of the possible values are reflected\n",
    "\n",
    "# now we builder our tokenizer\n",
    "tokenizer = torch.classes.torchtext.Tokenizer(vocab=vocab, split=\"character\")\n",
    "sample_tokens = tokenizer(sample_sequence)  # sanity check that it looks good"
   ]
  },
  {
   "cell_type": "markdown",
   "metadata": {
    "id": "IgIXlfAeyana"
   },
   "source": [
    "## Install some necessary libraries"
   ]
  },
  {
   "cell_type": "code",
   "execution_count": null,
   "metadata": {
    "id": "LkLPZdZaycfq"
   },
   "outputs": [],
   "source": [
    "!pip install torch"
   ]
  },
  {
   "cell_type": "markdown",
   "metadata": {
    "id": "_MD2z6Zijw_a"
   },
   "source": [
    "## Create our dataset"
   ]
  },
  {
   "cell_type": "code",
   "execution_count": null,
   "metadata": {
    "id": "8OmkRYuRn6rk"
   },
   "outputs": [],
   "source": [
    "import torch\n",
    "from torch.utils.data import Dataset\n",
    "\n",
    "# Pytorch defines a nice dataset class that only requires we implement two functions:\n",
    "# 1. __len__\n",
    "# 2. __getitem__\n",
    "# Our dataset is just the set of all samples that we want to train our model on\n",
    "# __len__ should get us the total number of samples\n",
    "# __getitem__ takes in an integer and should give us the corresponding element in the dataset\n",
    "\n",
    "# You might be wondering why they have those weird underscores? That enables us to\n",
    "# call those functions on the class instances directly\n",
    "#\n",
    "# For instance if we define an instance of our Dataset class, then we can get the length of it\n",
    "# by invoking `len` on it directly\n",
    "# new_dataset = GenomicR0ValueDataset(some_sample_sequences, some_sample_r0_values, new_tokenizer)\n",
    "# len(new_dataset) # this will call GenomicR0ValueDataset.__len__\n",
    "\n",
    "class GenomicR0ValueDataset(Dataset):\n",
    "  def __init__(self, sequences, r0_values, tokenizer):\n",
    "    # here we should initialize some class variables using `self.` so that\n",
    "    # we can access them further along\n",
    "    # make sure all of our sequences are tokenized so that when we return them in __getitem__\n",
    "    # we don't have to do any post-processing on them during training\n",
    "\n",
    "  def __len__(self):\n",
    "    # this needs to return the number of elements in our dataset\n",
    "    # so this should be the total number of sequences\n",
    "    pass\n",
    "\n",
    "  def __getitem__(self, index):\n",
    "    # get item should take in an index and return the corresponding genomic sequence\n",
    "    # AND its r0 value. we need to return both because every time we pass a sequence\n",
    "    # through our model, we need to compare its predicted r0 value to the correct r0\n",
    "    # value. so the format of this output should be returning two things like this:\n",
    "    # return _, _\n",
    "    pass"
   ]
  },
  {
   "cell_type": "markdown",
   "metadata": {
    "id": "RIY2CYd3kwP2"
   },
   "source": [
    "## Create our dataloader"
   ]
  },
  {
   "cell_type": "code",
   "execution_count": null,
   "metadata": {
    "id": "fxqTVvWWkzwB"
   },
   "outputs": [],
   "source": [
    "import torch\n",
    "from torch.utils.data import random_split, DataLoader\n",
    "from torchvision import datasets, transforms\n",
    "from torch import nn, optim\n",
    "\n",
    "# pytorch dataloaders: https://pytorch.org/tutorials/beginner/basics/data_tutorial.html\n",
    "# dataloaders take in a pytorch.Dataset as an argument (like the one we defined above!)\n",
    "\n",
    "dataset = None  # lets instantiate that GenomicR0ValueDataset we defined above\n",
    "\n",
    "# define some train test split\n",
    "train_test_ratio = 0.9\n",
    "train_size = int(\n",
    "    train_test_ratio * len(dataset)\n",
    ")  # how convenient that we can called `len` on our dataset!!\n",
    "test_size = len(dataset) - train_size\n",
    "\n",
    "# now use random_split from torch.utils.data to define our two datasets\n",
    "train_dataset, test_dataset = None, None\n",
    "\n",
    "# define our batch_size\n",
    "batch_size = (\n",
    "    4  # batch size defines how many sequences our model will be processing at once\n",
    ")\n",
    "# higher batch sizes mean training will be faster, but will make updates slightly less precisely (will talk about this in person)\n",
    "# another thing to keep in mind is the amount of MEMORY that we have! our batches can't get too big!\n",
    "\n",
    "train_dataloader = DataLoader(train_dataset, batch_size=batch_size)\n",
    "test_dataloader = DataLoader(test_dataset, batch_size=batch_size)"
   ]
  },
  {
   "cell_type": "markdown",
   "metadata": {
    "id": "giSyBftTwA6N"
   },
   "source": [
    "## Define our model architecture"
   ]
  },
  {
   "cell_type": "markdown",
   "metadata": {
    "id": "OkA00-MPyUuJ"
   },
   "source": [
    "### Positional Encoding"
   ]
  },
  {
   "cell_type": "code",
   "execution_count": null,
   "metadata": {
    "id": "XRkJTYVoyIwT"
   },
   "outputs": [],
   "source": [
    "# positional encoding explanation\n",
    "# https://machinelearningmastery.com/a-gentle-introduction-to-positional-encoding-in-transformer-models-part-1/\n",
    "\n",
    "import torch\n",
    "import torch.nn as nn\n",
    "\n",
    "\n",
    "class PositionalEncoding(nn.Module):\n",
    "\n",
    "    def __init__(self, d_model: int, max_len: int = 5000):\n",
    "        super().__init__()\n",
    "        self.dropout = nn.Dropout(p=0.1)\n",
    "\n",
    "        position = torch.arange(max_len).unsqueeze(1)\n",
    "        div_term = torch.exp(\n",
    "            torch.arange(0, d_model, 2) * (-math.log(10000.0) / d_model)\n",
    "        )\n",
    "        pe = torch.zeros(max_len, 1, d_model)\n",
    "        pe[:, 0, 0::2] = torch.sin(position * div_term)\n",
    "        pe[:, 0, 1::2] = torch.cos(position * div_term)\n",
    "        self.register_buffer(\"pe\", pe)\n",
    "\n",
    "    def forward(self, x):\n",
    "        \"\"\"\n",
    "        Arguments:\n",
    "            x: Tensor, shape ``[seq_len, batch_size, embedding_dim]``\n",
    "        \"\"\"\n",
    "        x = x + self.pe[: x.size(0)]\n",
    "        return self.dropout(x)\n",
    "\n",
    "\n",
    "# positional encoding is critical for the transformer model\n",
    "# d_model is the embedding dimension of the model\n",
    "# max_len here is our context window size"
   ]
  },
  {
   "cell_type": "code",
   "execution_count": null,
   "metadata": {
    "id": "OUcM42aowCOP"
   },
   "outputs": [],
   "source": [
    "import math\n",
    "\n",
    "import torch\n",
    "from torch import nn, Tensor\n",
    "from torch.nn import TransformerEncoder, TransformerEncoderLayer\n",
    "\n",
    "\n",
    "class GenomeR0ValueModel(nn.Module):\n",
    "    def __init__(self, ntoken: int, d_model: int, nhead: int, d_hid: int, nlayers: int):\n",
    "        super().__init__()\n",
    "        self.model_type = \"Transformer\"\n",
    "        self.pos_encoder = PositionalEncoding(d_model)\n",
    "        encoder_layers = TransformerEncoderLayer(d_model, nhead, d_hid)\n",
    "        self.transformer_encoder = TransformerEncoder(encoder_layers, nlayers)\n",
    "        self.embedding = nn.Embedding(ntoken, d_model)\n",
    "        self.d_model = d_model\n",
    "        self.linear = nn.Linear(d_model, ntoken)\n",
    "\n",
    "        self.init_weights()\n",
    "\n",
    "    def init_weights(self) -> None:\n",
    "        initrange = 0.1\n",
    "        self.embedding.weight.data.uniform_(-initrange, initrange)\n",
    "        self.linear.bias.data.zero_()\n",
    "        self.linear.weight.data.uniform_(-initrange, initrange)\n",
    "\n",
    "    def forward(self, src: Tensor, src_mask: Tensor = None) -> Tensor:\n",
    "        \"\"\"\n",
    "        Arguments:\n",
    "            src: Tensor, shape ``[seq_len, batch_size]``\n",
    "            src_mask: Tensor, shape ``[seq_len, seq_len]``\n",
    "\n",
    "        Returns:\n",
    "            output Tensor of shape ``[seq_len, batch_size, ntoken]``\n",
    "        \"\"\"\n",
    "        src = self.embedding(src) * math.sqrt(self.d_model)\n",
    "        src = self.pos_encoder(src)\n",
    "        if src_mask is None:\n",
    "            \"\"\"Generate a square causal mask for the sequence. The masked positions are filled with float('-inf').\n",
    "            Unmasked positions are filled with float(0.0).\n",
    "            \"\"\"\n",
    "            src_mask = nn.Transformer.generate_square_subsequent_mask(len(src)).to(\n",
    "                device\n",
    "            )\n",
    "        output = self.transformer_encoder(src, src_mask)\n",
    "        output = self.linear(output)\n",
    "        return output\n",
    "\n",
    "\n",
    "# here, we define the model class, it is based on a transformer architecture\n",
    "# and it takes in a ntoken, which is the size of the vocabulary (number of unique characters in our input)\n",
    "# d_model, which is the embedding size of the tokens\n",
    "# nhead is the number of heads in our self-attention setup\n",
    "# d_hid is the dimension of the hidden layer\n",
    "# n_layers is the number of hidden layers"
   ]
  },
  {
   "cell_type": "markdown",
   "metadata": {
    "id": "xcYFOPUmk0Wb"
   },
   "source": [
    "## Create our train and test loop and begin trainin"
   ]
  },
  {
   "cell_type": "code",
   "execution_count": null,
   "metadata": {
    "id": "HIHPyJhFk1to"
   },
   "outputs": [],
   "source": [
    "# initialize our model\n",
    "import torch\n",
    "import torch.nn as nn\n",
    "\n",
    "model = None\n",
    "\n",
    "import torch\n",
    "from torch.utils.data import DataLoader\n",
    "from tqdm import tqdm  # Progress bar (optional, but very helpful)\n",
    "\n",
    "def train_model(model, train_loader, test_loader, criterion, optimizer, num_epochs, device=\"cuda\" if torch.cuda.is_available() else \"cpu\"):\n",
    "  # move the\n",
    "  model.to(device)\n",
    "  best_val_loss = float(\"inf\")\n",
    "  for epoch in range(num_epochs):\n",
    "    # Training Phase\n",
    "    model.train()\n",
    "    train_loss = 0.0\n",
    "    pbar = tqdm(train_loader, desc=f\"Epoch {epoch + 1}/{num_epochs}\")\n",
    "    for inputs, targets in pbar:\n",
    "      inputs, targets = inputs.to(device), targets.to(device)\n",
    "\n",
    "        optimizer.zero_grad()\n",
    "        outputs = model(inputs)\n",
    "        loss = criterion(outputs, targets.unsqueeze(1))  # Ensure target shape matches output\n",
    "        loss.backward()\n",
    "        optimizer.step()\n",
    "\n",
    "        train_loss += loss.item()\n",
    "        pbar.set_postfix({\"Train Loss\": loss.item()})\n",
    "\n",
    "    train_loss /= len(train_loader)\n",
    "\n",
    "    # Test Phase\n",
    "    model.eval()\n",
    "    val_loss = 0.0\n",
    "    with torch.no_grad():\n",
    "      for inputs, targets in val_loader:\n",
    "        inputs, targets = inputs.to(device), targets.to(device)\n",
    "        outputs = model(inputs)\n",
    "        loss = criterion(outputs, targets.unsqueeze(1))\n",
    "        val_loss += loss.item()\n",
    "      val_loss /= len(val_loader)\n",
    "\n",
    "        print(f\"Epoch {epoch + 1}/{num_epochs}, Train Loss: {train_loss:.4f}, Val Loss: {val_loss:.4f}\")\n",
    "\n",
    "        # Save the best model\n",
    "        if val_loss < best_val_loss:\n",
    "            best_val_loss = val_loss\n",
    "            torch.save(model.state_dict(), \"best_model.pth\")\n",
    "\n",
    "\n",
    "# Example usage\n",
    "train_loader = DataLoader(...)  # Your training dataloader (we defined these above)\n",
    "val_loader = DataLoader(...)   # Your validation dataloader\n",
    "\n",
    "criterion = torch.nn.MSELoss()\n",
    "optimizer = torch.optim.Adam(learning_rate=0.1)\n",
    "\n",
    "# Train the model\n",
    "train_model(model, train_loader, val_loader, criterion, optimizer, num_epochs=10)\n",
    "\n",
    "\n",
    "\n"
   ]
  },
  {
   "cell_type": "markdown",
   "metadata": {
    "id": "OuH9xs8yk2Wj"
   },
   "source": [
    "## Begin training"
   ]
  },
  {
   "cell_type": "code",
   "execution_count": null,
   "metadata": {
    "id": "3AzqFvx5k6hK"
   },
   "outputs": [],
   "source": []
  }
 ],
 "metadata": {
  "colab": {
   "last_runtime": {
    "build_target": "//research/colab/notebook:notebook_backend_py3",
    "kind": "shared"
   },
   "provenance": []
  },
  "kernelspec": {
   "display_name": "Python 3",
   "name": "python3"
  },
  "language_info": {
   "codemirror_mode": {
    "name": "ipython",
    "version": 3
   },
   "file_extension": ".py",
   "mimetype": "text/x-python",
   "name": "python",
   "nbconvert_exporter": "python",
   "pygments_lexer": "ipython3",
   "version": "3.9.19"
  }
 },
 "nbformat": 4,
 "nbformat_minor": 0
}
